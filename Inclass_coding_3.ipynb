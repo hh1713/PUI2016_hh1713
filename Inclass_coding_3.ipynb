{
 "cells": [
  {
   "cell_type": "code",
   "execution_count": 1,
   "metadata": {
    "collapsed": false
   },
   "outputs": [
    {
     "name": "stdout",
     "output_type": "stream",
     "text": [
      "Populating the interactive namespace from numpy and matplotlib\n"
     ]
    },
    {
     "name": "stderr",
     "output_type": "stream",
     "text": [
      "/opt/rh/anaconda/root/lib/python2.7/site-packages/pandas/computation/__init__.py:19: UserWarning: The installed version of numexpr 2.4.4 is not supported in pandas and will be not be used\n",
      "\n",
      "  UserWarning)\n"
     ]
    }
   ],
   "source": [
    "import numpy as np\n",
    "import pylab as pl\n",
    "import statsmodels.api as sm\n",
    "%pylab inline\n",
    "np.random.seed(123)"
   ]
  },
  {
   "cell_type": "code",
   "execution_count": 2,
   "metadata": {
    "collapsed": true
   },
   "outputs": [],
   "source": [
    "x = np.arange(0.0, 100.0)\n",
    "a = np.random.rand(2)"
   ]
  },
  {
   "cell_type": "code",
   "execution_count": 3,
   "metadata": {
    "collapsed": false
   },
   "outputs": [
    {
     "data": {
      "text/plain": [
       "array([  0.28613933,   0.98260852,   1.67907771,   2.37554689,\n",
       "         3.07201608,   3.76848526,   4.46495445,   5.16142363,\n",
       "         5.85789282,   6.55436201,   7.25083119,   7.94730038,\n",
       "         8.64376956,   9.34023875,  10.03670793,  10.73317712,\n",
       "        11.4296463 ,  12.12611549,  12.82258468,  13.51905386,\n",
       "        14.21552305,  14.91199223,  15.60846142,  16.3049306 ,\n",
       "        17.00139979,  17.69786897,  18.39433816,  19.09080735,\n",
       "        19.78727653,  20.48374572,  21.1802149 ,  21.87668409,\n",
       "        22.57315327,  23.26962246,  23.96609165,  24.66256083,\n",
       "        25.35903002,  26.0554992 ,  26.75196839,  27.44843757,\n",
       "        28.14490676,  28.84137594,  29.53784513,  30.23431432,\n",
       "        30.9307835 ,  31.62725269,  32.32372187,  33.02019106,\n",
       "        33.71666024,  34.41312943,  35.10959861,  35.8060678 ,\n",
       "        36.50253699,  37.19900617,  37.89547536,  38.59194454,\n",
       "        39.28841373,  39.98488291,  40.6813521 ,  41.37782129,\n",
       "        42.07429047,  42.77075966,  43.46722884,  44.16369803,\n",
       "        44.86016721,  45.5566364 ,  46.25310558,  46.94957477,\n",
       "        47.64604396,  48.34251314,  49.03898233,  49.73545151,\n",
       "        50.4319207 ,  51.12838988,  51.82485907,  52.52132825,\n",
       "        53.21779744,  53.91426663,  54.61073581,  55.307205  ,\n",
       "        56.00367418,  56.70014337,  57.39661255,  58.09308174,\n",
       "        58.78955093,  59.48602011,  60.1824893 ,  60.87895848,\n",
       "        61.57542767,  62.27189685,  62.96836604,  63.66483522,\n",
       "        64.36130441,  65.0577736 ,  65.75424278,  66.45071197,\n",
       "        67.14718115,  67.84365034,  68.54011952,  69.23658871])"
      ]
     },
     "execution_count": 3,
     "metadata": {},
     "output_type": "execute_result"
    }
   ],
   "source": [
    "def line(a, x):\n",
    "    \"\"\"\n",
    "    this function returns the output of a y with\n",
    "    the given input parameters\n",
    "    \"\"\"\n",
    "    y = a[0]*x + a[1]\n",
    "    return y\n",
    "\n",
    "line(a,x)"
   ]
  },
  {
   "cell_type": "code",
   "execution_count": 4,
   "metadata": {
    "collapsed": false
   },
   "outputs": [
    {
     "data": {
      "text/plain": [
       "[<matplotlib.lines.Line2D at 0x7f6201b2bbd0>]"
      ]
     },
     "execution_count": 4,
     "metadata": {},
     "output_type": "execute_result"
    },
    {
     "data": {
      "image/png": "[encoded data removed]",
      "text/plain": [
       "<matplotlib.figure.Figure at 0x7f6201bf51d0>"
      ]
     },
     "metadata": {},
     "output_type": "display_data"
    }
   ],
   "source": [
    "pl.plot(x, line(a, x), 'bo')"
   ]
  },
  {
   "cell_type": "code",
   "execution_count": null,
   "metadata": {
    "collapsed": true
   },
   "outputs": [],
   "source": []
  }
 ],
 "metadata": {
  "kernelspec": {
   "display_name": "Python 2",
   "language": "python",
   "name": "python2"
  },
  "language_info": {
   "codemirror_mode": {
    "name": "ipython",
    "version": 2
   },
   "file_extension": ".py",
   "mimetype": "text/x-python",
   "name": "python",
   "nbconvert_exporter": "python",
   "pygments_lexer": "ipython2",
   "version": "2.7.11"
  }
 },
 "nbformat": 4,
 "nbformat_minor": 0
}
