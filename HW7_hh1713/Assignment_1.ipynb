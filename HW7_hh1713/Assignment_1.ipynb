{
 "cells": [
  {
   "cell_type": "markdown",
   "metadata": {},
   "source": [
    "## Homework7, Assignment 1: Making a plot\n",
    "### Working with citibike data we will be making a boxplot to study how the distributional chararcteristics are different between the genders when looking into lenght of a ride in minutes. For this notebook data from June 2015 was used."
   ]
  },
  {
   "cell_type": "code",
   "execution_count": 9,
   "metadata": {
    "collapsed": false
   },
   "outputs": [
    {
     "name": "stdout",
     "output_type": "stream",
     "text": [
      "Populating the interactive namespace from numpy and matplotlib\n"
     ]
    }
   ],
   "source": [
    "# importing packages\n",
    "import os\n",
    "import pylab as pl\n",
    "import numpy as np\n",
    "import pandas as pd\n",
    "from getCitiBikeCSV import getCitiBikeCSV\n",
    "\n",
    "%pylab inline"
   ]
  },
  {
   "cell_type": "code",
   "execution_count": 11,
   "metadata": {
    "collapsed": false
   },
   "outputs": [
    {
     "name": "stdout",
     "output_type": "stream",
     "text": [
      "('Downloading', '201506')\n",
      "file in place, you can continue\n"
     ]
    }
   ],
   "source": [
    "# getting citibike data through getCitiBikeCSV python script\n",
    "datestring = '201506'\n",
    "getCitiBikeCSV(datestring)"
   ]
  },
  {
   "cell_type": "code",
   "execution_count": 194,
   "metadata": {
    "collapsed": true
   },
   "outputs": [],
   "source": [
    "# reading in data\n",
    "data = pd.read_csv(os.getenv(\"PUIDATA\") + \"/\" + datestring + \n",
    "                   '-citibike-tripdata.csv')"
   ]
  },
  {
   "cell_type": "code",
   "execution_count": 199,
   "metadata": {
    "collapsed": false,
    "scrolled": false
   },
   "outputs": [],
   "source": [
    "# extracting useful data and changing 'tripduration' from seconds to minutes\n",
    "cut_data = data[['tripduration','gender']]\n",
    "cut_data = cut_data[cut_data['gender'] !=0]\n",
    "cut_data['tripduration'] = cut_data['tripduration']/60"
   ]
  },
  {
   "cell_type": "code",
   "execution_count": 207,
   "metadata": {
    "collapsed": false
   },
   "outputs": [
    {
     "data": {
      "text/plain": [
       "count    804296.000000\n",
       "mean         11.947233\n",
       "std           7.813927\n",
       "min           1.000000\n",
       "25%           6.266667\n",
       "50%           9.833333\n",
       "75%          15.500000\n",
       "max          45.000000\n",
       "Name: tripduration, dtype: float64"
      ]
     },
     "execution_count": 207,
     "metadata": {},
     "output_type": "execute_result"
    }
   ],
   "source": [
    "cut_data.tripduration.describe()"
   ]
  },
  {
   "cell_type": "code",
   "execution_count": 198,
   "metadata": {
    "collapsed": false
   },
   "outputs": [
    {
     "data": {
      "text/plain": [
       "tripduration    0.734345\n",
       "gender          0.734345\n",
       "dtype: float64"
      ]
     },
     "execution_count": 198,
     "metadata": {},
     "output_type": "execute_result"
    }
   ],
   "source": [
    "# percentage of trips over 45 minutes long\n",
    "(cut_data[cut_data['tripduration'] > 45].count()/len(cut_data))*100"
   ]
  },
  {
   "cell_type": "markdown",
   "metadata": {},
   "source": [
    "##### Some people use those bicycles for a mighty long time, let's cut everything over 45 minutes as outliers (45 minutes being the max allotted time for citibike useage): 0.7% of total trips."
   ]
  },
  {
   "cell_type": "code",
   "execution_count": 202,
   "metadata": {
    "collapsed": true
   },
   "outputs": [],
   "source": [
    "cut_data = cut_data[cut_data['tripduration'] <= 45]"
   ]
  },
  {
   "cell_type": "code",
   "execution_count": 210,
   "metadata": {
    "collapsed": false
   },
   "outputs": [
    {
     "name": "stderr",
     "output_type": "stream",
     "text": [
      "/opt/rh/anaconda/root/envs/PUI2016_Python2/lib/python2.7/site-packages/ipykernel/__main__.py:3: SettingWithCopyWarning: \n",
      "A value is trying to be set on a copy of a slice from a DataFrame\n",
      "\n",
      "See the caveats in the documentation: http://pandas.pydata.org/pandas-docs/stable/indexing.html#indexing-view-versus-copy\n",
      "  app.launch_new_instance()\n",
      "/opt/rh/anaconda/root/envs/PUI2016_Python2/lib/python2.7/site-packages/ipykernel/__main__.py:5: SettingWithCopyWarning: \n",
      "A value is trying to be set on a copy of a slice from a DataFrame\n",
      "\n",
      "See the caveats in the documentation: http://pandas.pydata.org/pandas-docs/stable/indexing.html#indexing-view-versus-copy\n"
     ]
    }
   ],
   "source": [
    "# splitting the dataset in two based on gender\n",
    "men = cut_data[cut_data['gender'] ==1]\n",
    "men.drop(['gender'], axis=1, inplace=True)\n",
    "women = cut_data[cut_data['gender'] ==2]\n",
    "women.drop(['gender'], axis=1, inplace=True)"
   ]
  },
  {
   "cell_type": "code",
   "execution_count": 213,
   "metadata": {
    "collapsed": false
   },
   "outputs": [
    {
     "name": "stdout",
     "output_type": "stream",
     "text": [
      "The dataset for men described:\n"
     ]
    },
    {
     "data": {
      "text/html": [
       "<div>\n",
       "<table border=\"1\" class=\"dataframe\">\n",
       "  <thead>\n",
       "    <tr style=\"text-align: right;\">\n",
       "      <th></th>\n",
       "      <th>tripduration</th>\n",
       "    </tr>\n",
       "  </thead>\n",
       "  <tbody>\n",
       "    <tr>\n",
       "      <th>count</th>\n",
       "      <td>617591.000000</td>\n",
       "    </tr>\n",
       "    <tr>\n",
       "      <th>mean</th>\n",
       "      <td>11.545306</td>\n",
       "    </tr>\n",
       "    <tr>\n",
       "      <th>std</th>\n",
       "      <td>7.646245</td>\n",
       "    </tr>\n",
       "    <tr>\n",
       "      <th>min</th>\n",
       "      <td>1.000000</td>\n",
       "    </tr>\n",
       "    <tr>\n",
       "      <th>25%</th>\n",
       "      <td>6.050000</td>\n",
       "    </tr>\n",
       "    <tr>\n",
       "      <th>50%</th>\n",
       "      <td>9.450000</td>\n",
       "    </tr>\n",
       "    <tr>\n",
       "      <th>75%</th>\n",
       "      <td>14.883333</td>\n",
       "    </tr>\n",
       "    <tr>\n",
       "      <th>max</th>\n",
       "      <td>45.000000</td>\n",
       "    </tr>\n",
       "  </tbody>\n",
       "</table>\n",
       "</div>"
      ],
      "text/plain": [
       "        tripduration\n",
       "count  617591.000000\n",
       "mean       11.545306\n",
       "std         7.646245\n",
       "min         1.000000\n",
       "25%         6.050000\n",
       "50%         9.450000\n",
       "75%        14.883333\n",
       "max        45.000000"
      ]
     },
     "execution_count": 213,
     "metadata": {},
     "output_type": "execute_result"
    }
   ],
   "source": [
    "print 'The dataset for men described:'\n",
    "men.describe()"
   ]
  },
  {
   "cell_type": "code",
   "execution_count": 214,
   "metadata": {
    "collapsed": false
   },
   "outputs": [
    {
     "name": "stdout",
     "output_type": "stream",
     "text": [
      "The dataset for women described:\n"
     ]
    },
    {
     "data": {
      "text/html": [
       "<div>\n",
       "<table border=\"1\" class=\"dataframe\">\n",
       "  <thead>\n",
       "    <tr style=\"text-align: right;\">\n",
       "      <th></th>\n",
       "      <th>tripduration</th>\n",
       "    </tr>\n",
       "  </thead>\n",
       "  <tbody>\n",
       "    <tr>\n",
       "      <th>count</th>\n",
       "      <td>186705.000000</td>\n",
       "    </tr>\n",
       "    <tr>\n",
       "      <th>mean</th>\n",
       "      <td>13.276745</td>\n",
       "    </tr>\n",
       "    <tr>\n",
       "      <th>std</th>\n",
       "      <td>8.205550</td>\n",
       "    </tr>\n",
       "    <tr>\n",
       "      <th>min</th>\n",
       "      <td>1.000000</td>\n",
       "    </tr>\n",
       "    <tr>\n",
       "      <th>25%</th>\n",
       "      <td>7.183333</td>\n",
       "    </tr>\n",
       "    <tr>\n",
       "      <th>50%</th>\n",
       "      <td>11.200000</td>\n",
       "    </tr>\n",
       "    <tr>\n",
       "      <th>75%</th>\n",
       "      <td>17.383333</td>\n",
       "    </tr>\n",
       "    <tr>\n",
       "      <th>max</th>\n",
       "      <td>45.000000</td>\n",
       "    </tr>\n",
       "  </tbody>\n",
       "</table>\n",
       "</div>"
      ],
      "text/plain": [
       "        tripduration\n",
       "count  186705.000000\n",
       "mean       13.276745\n",
       "std         8.205550\n",
       "min         1.000000\n",
       "25%         7.183333\n",
       "50%        11.200000\n",
       "75%        17.383333\n",
       "max        45.000000"
      ]
     },
     "execution_count": 214,
     "metadata": {},
     "output_type": "execute_result"
    }
   ],
   "source": [
    "print 'The dataset for women described:'\n",
    "women.describe()"
   ]
  },
  {
   "cell_type": "code",
   "execution_count": 205,
   "metadata": {
    "collapsed": false
   },
   "outputs": [],
   "source": [
    "# making a list of the data to be utilised for the plot\n",
    "data_to_plot = [men.tripduration, women.tripduration]"
   ]
  },
  {
   "cell_type": "code",
   "execution_count": 219,
   "metadata": {
    "collapsed": false
   },
   "outputs": [
    {
     "data": {
      "image/png": "[encoded data removed]",
      "text/plain": [
       "<matplotlib.figure.Figure at 0x7f31fc6d2cd0>"
      ]
     },
     "metadata": {},
     "output_type": "display_data"
    }
   ],
   "source": [
    "# plotting the data\n",
    "fig, ax1 = pl.subplots(figsize=(10, 12))\n",
    "pl.boxplot(data_to_plot, showfliers=False)\n",
    "pl.xticks( arange(3), ('','Men', 'Women') )\n",
    "ax1.yaxis.grid(True, linestyle='-', which='major', color='lightgrey',alpha=0.5)\n",
    "ax1.set_axisbelow(True)\n",
    "ax1.set_title('Length of citibike rides, men vs. women')\n",
    "#ax1.set_xlabel('Distribution')\n",
    "ax1.set_ylabel('Minutes')\n",
    "pl.savefig(\"hh1713_HW7_plot.png\")"
   ]
  },
  {
   "cell_type": "markdown",
   "metadata": {},
   "source": [
    "### From the plot we can see that the median ridelength for women is longer than for men, 9.45 minutes vs. 11.2 minutes. The interquartile range, the 'middle-box' for women is larger than for men, and the whiskers span a greater area as well. On average women bike for longer than men and there is also a greater spread in biketime for women.\n",
    "\n",
    "### All of this suggests that women either bike longer distances than men or they are not as fast between the same A and B or both. It would be interesting to compare these findings to distances between pickup and dropoff stations for the bikes to see if there is a difference between distance covered by men and women. \n",
    "\n",
    "### Intuatively I would think that the difference in average ridelength in minutes has more to do with physiological and behavioral differences between the genders than distance. Men do have higher absolute power outputs when biking and men also engage in more risky behaviour than women in many real-world domains both of which should result in men being quicker between the same A and B. This could also go some way to explain why more men use citibike than women as it would simply mean that biking is relatively more efficient for men than women. Again, a measure of bike length in distance is needed for anything more concrete."
   ]
  }
 ],
 "metadata": {
  "kernelspec": {
   "display_name": "PUI2016_Python2",
   "language": "python",
   "name": "pui2016_python2"
  },
  "language_info": {
   "codemirror_mode": {
    "name": "ipython",
    "version": 2
   },
   "file_extension": ".py",
   "mimetype": "text/x-python",
   "name": "python",
   "nbconvert_exporter": "python",
   "pygments_lexer": "ipython2",
   "version": "2.7.12"
  }
 },
 "nbformat": 4,
 "nbformat_minor": 0
}
