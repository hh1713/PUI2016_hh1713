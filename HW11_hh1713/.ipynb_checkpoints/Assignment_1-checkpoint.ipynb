{
 "cells": [
  {
   "cell_type": "markdown",
   "metadata": {},
   "source": [
    "# Homework 11 - Assignment 1"
   ]
  },
  {
   "cell_type": "code",
   "execution_count": 77,
   "metadata": {
    "collapsed": false
   },
   "outputs": [],
   "source": [
    "%matplotlib inline\n",
    "import numpy as np\n",
    "import pandas as pd\n",
    "import os\n",
    "from pandas import DataFrame\n",
    "import matplotlib.pylab as plt\n",
    "from geopandas import GeoDataFrame\n",
    "import geopandas as gdp\n",
    "from fiona.crs import from_epsg\n",
    "import shapely\n",
    "import statsmodels.api as sm\n",
    "import pysal as ps\n",
    "import seaborn as sns\n",
    "from matplotlib import colors"
   ]
  },
  {
   "cell_type": "code",
   "execution_count": 39,
   "metadata": {
    "collapsed": false
   },
   "outputs": [
    {
     "data": {
      "text/plain": [
       "0"
      ]
     },
     "execution_count": 39,
     "metadata": {},
     "output_type": "execute_result"
    }
   ],
   "source": [
    "# Downloading data\n",
    "os.system(\"curl -O http://www1.nyc.gov/assets/planning/download/zip/data-maps/open-data/nycb2010_16d.zip\")\n",
    "os.system(\"mv \" + \"nycb2010_16d.zip \" + os.getenv(\"PUIDATA\"))\n",
    "os.system(\"unzip \" + os.getenv(\"PUIDATA\") + \"/nycb2010_16d.zip\")\n",
    "os.system(\"mv \" + \"nycb2010_16d/ \" + os.getenv(\"PUIDATA\"))"
   ]
  },
  {
   "cell_type": "code",
   "execution_count": 165,
   "metadata": {
    "collapsed": false
   },
   "outputs": [],
   "source": [
    "shape_path = os.getenv('PUIDATA') + \"/nycb2010_16d/nycb2010.shp\"\n",
    "ct_shape = GeoDataFrame.from_file(shape_path)\n",
    "#ct_shape.index=ct_shape.BoroCT2010"
   ]
  },
  {
   "cell_type": "code",
   "execution_count": 166,
   "metadata": {
    "collapsed": false
   },
   "outputs": [
    {
     "data": {
      "text/html": [
       "<div>\n",
       "<table border=\"1\" class=\"dataframe\">\n",
       "  <thead>\n",
       "    <tr style=\"text-align: right;\">\n",
       "      <th></th>\n",
       "      <th>BCTCB2010</th>\n",
       "      <th>BoroCode</th>\n",
       "      <th>BoroName</th>\n",
       "      <th>CB2010</th>\n",
       "      <th>CT2010</th>\n",
       "      <th>Shape_Area</th>\n",
       "      <th>Shape_Leng</th>\n",
       "      <th>geometry</th>\n",
       "    </tr>\n",
       "  </thead>\n",
       "  <tbody>\n",
       "    <tr>\n",
       "      <th>0</th>\n",
       "      <td>50009001000</td>\n",
       "      <td>5</td>\n",
       "      <td>Staten Island</td>\n",
       "      <td>1000</td>\n",
       "      <td>000900</td>\n",
       "      <td>244589.603884</td>\n",
       "      <td>2508.948115</td>\n",
       "      <td>POLYGON ((962269.1260375977 173705.5001831055,...</td>\n",
       "    </tr>\n",
       "    <tr>\n",
       "      <th>1</th>\n",
       "      <td>50020011000</td>\n",
       "      <td>5</td>\n",
       "      <td>Staten Island</td>\n",
       "      <td>1000</td>\n",
       "      <td>002001</td>\n",
       "      <td>111006.286826</td>\n",
       "      <td>1345.886422</td>\n",
       "      <td>POLYGON ((964642.2676391602 161835.2651977539,...</td>\n",
       "    </tr>\n",
       "    <tr>\n",
       "      <th>2</th>\n",
       "      <td>50027001000</td>\n",
       "      <td>5</td>\n",
       "      <td>Staten Island</td>\n",
       "      <td>1000</td>\n",
       "      <td>002700</td>\n",
       "      <td>150406.766022</td>\n",
       "      <td>1703.381172</td>\n",
       "      <td>POLYGON ((963363.1168212891 167356.3336181641,...</td>\n",
       "    </tr>\n",
       "    <tr>\n",
       "      <th>3</th>\n",
       "      <td>50040001000</td>\n",
       "      <td>5</td>\n",
       "      <td>Staten Island</td>\n",
       "      <td>1000</td>\n",
       "      <td>004000</td>\n",
       "      <td>141296.561149</td>\n",
       "      <td>1511.173743</td>\n",
       "      <td>POLYGON ((960069.9965820312 161953.6936035156,...</td>\n",
       "    </tr>\n",
       "    <tr>\n",
       "      <th>4</th>\n",
       "      <td>50064001000</td>\n",
       "      <td>5</td>\n",
       "      <td>Staten Island</td>\n",
       "      <td>1000</td>\n",
       "      <td>006400</td>\n",
       "      <td>200784.983607</td>\n",
       "      <td>1978.243852</td>\n",
       "      <td>POLYGON ((963023.891784668 158246.7521972656, ...</td>\n",
       "    </tr>\n",
       "  </tbody>\n",
       "</table>\n",
       "</div>"
      ],
      "text/plain": [
       "     BCTCB2010 BoroCode       BoroName CB2010  CT2010     Shape_Area  \\\n",
       "0  50009001000        5  Staten Island   1000  000900  244589.603884   \n",
       "1  50020011000        5  Staten Island   1000  002001  111006.286826   \n",
       "2  50027001000        5  Staten Island   1000  002700  150406.766022   \n",
       "3  50040001000        5  Staten Island   1000  004000  141296.561149   \n",
       "4  50064001000        5  Staten Island   1000  006400  200784.983607   \n",
       "\n",
       "    Shape_Leng                                           geometry  \n",
       "0  2508.948115  POLYGON ((962269.1260375977 173705.5001831055,...  \n",
       "1  1345.886422  POLYGON ((964642.2676391602 161835.2651977539,...  \n",
       "2  1703.381172  POLYGON ((963363.1168212891 167356.3336181641,...  \n",
       "3  1511.173743  POLYGON ((960069.9965820312 161953.6936035156,...  \n",
       "4  1978.243852  POLYGON ((963023.891784668 158246.7521972656, ...  "
      ]
     },
     "execution_count": 166,
     "metadata": {},
     "output_type": "execute_result"
    }
   ],
   "source": [
    "ct_shape.head()"
   ]
  },
  {
   "cell_type": "code",
   "execution_count": 167,
   "metadata": {
    "collapsed": true
   },
   "outputs": [],
   "source": [
    "# changing the geometry and creating a new dataframe, ct_latlon\n",
    "target = dict(ellps='WGS84', datum='WGS84', proj='longlat')\n",
    "ct_latlon = ct_shape.to_crs(crs=target)"
   ]
  },
  {
   "cell_type": "code",
   "execution_count": 171,
   "metadata": {
    "collapsed": false
   },
   "outputs": [],
   "source": [
    "# selecting only Brooklyn shape polygons\n",
    "ct_latlon = ct_latlon[ct_latlon.BoroName == 'Brooklyn']"
   ]
  },
  {
   "cell_type": "code",
   "execution_count": 172,
   "metadata": {
    "collapsed": false
   },
   "outputs": [
    {
     "data": {
      "text/html": [
       "<div>\n",
       "<table border=\"1\" class=\"dataframe\">\n",
       "  <thead>\n",
       "    <tr style=\"text-align: right;\">\n",
       "      <th></th>\n",
       "      <th>BCTCB2010</th>\n",
       "      <th>BoroCode</th>\n",
       "      <th>BoroName</th>\n",
       "      <th>CB2010</th>\n",
       "      <th>CT2010</th>\n",
       "      <th>Shape_Area</th>\n",
       "      <th>Shape_Leng</th>\n",
       "      <th>geometry</th>\n",
       "    </tr>\n",
       "  </thead>\n",
       "  <tbody>\n",
       "    <tr>\n",
       "      <th>5037</th>\n",
       "      <td>30002001000</td>\n",
       "      <td>3</td>\n",
       "      <td>Brooklyn</td>\n",
       "      <td>1000</td>\n",
       "      <td>000200</td>\n",
       "      <td>208484.989566</td>\n",
       "      <td>2097.493132</td>\n",
       "      <td>POLYGON ((-74.00659158337982 40.6556127336851,...</td>\n",
       "    </tr>\n",
       "    <tr>\n",
       "      <th>5038</th>\n",
       "      <td>30003011000</td>\n",
       "      <td>3</td>\n",
       "      <td>Brooklyn</td>\n",
       "      <td>1000</td>\n",
       "      <td>000301</td>\n",
       "      <td>63365.958361</td>\n",
       "      <td>1006.913933</td>\n",
       "      <td>POLYGON ((-73.99514512602698 40.69877384570529...</td>\n",
       "    </tr>\n",
       "    <tr>\n",
       "      <th>5039</th>\n",
       "      <td>30005011000</td>\n",
       "      <td>3</td>\n",
       "      <td>Brooklyn</td>\n",
       "      <td>1000</td>\n",
       "      <td>000501</td>\n",
       "      <td>116303.194723</td>\n",
       "      <td>1431.900698</td>\n",
       "      <td>POLYGON ((-73.99270830309769 40.6980992598468,...</td>\n",
       "    </tr>\n",
       "    <tr>\n",
       "      <th>5040</th>\n",
       "      <td>30011001000</td>\n",
       "      <td>3</td>\n",
       "      <td>Brooklyn</td>\n",
       "      <td>1000</td>\n",
       "      <td>001100</td>\n",
       "      <td>54802.306859</td>\n",
       "      <td>951.657541</td>\n",
       "      <td>POLYGON ((-73.9851430608965 40.69488514300315,...</td>\n",
       "    </tr>\n",
       "    <tr>\n",
       "      <th>5041</th>\n",
       "      <td>30015001000</td>\n",
       "      <td>3</td>\n",
       "      <td>Brooklyn</td>\n",
       "      <td>1000</td>\n",
       "      <td>001500</td>\n",
       "      <td>79196.530872</td>\n",
       "      <td>1129.348482</td>\n",
       "      <td>POLYGON ((-73.98305147125492 40.69837793357372...</td>\n",
       "    </tr>\n",
       "  </tbody>\n",
       "</table>\n",
       "</div>"
      ],
      "text/plain": [
       "        BCTCB2010 BoroCode  BoroName CB2010  CT2010     Shape_Area  \\\n",
       "5037  30002001000        3  Brooklyn   1000  000200  208484.989566   \n",
       "5038  30003011000        3  Brooklyn   1000  000301   63365.958361   \n",
       "5039  30005011000        3  Brooklyn   1000  000501  116303.194723   \n",
       "5040  30011001000        3  Brooklyn   1000  001100   54802.306859   \n",
       "5041  30015001000        3  Brooklyn   1000  001500   79196.530872   \n",
       "\n",
       "       Shape_Leng                                           geometry  \n",
       "5037  2097.493132  POLYGON ((-74.00659158337982 40.6556127336851,...  \n",
       "5038  1006.913933  POLYGON ((-73.99514512602698 40.69877384570529...  \n",
       "5039  1431.900698  POLYGON ((-73.99270830309769 40.6980992598468,...  \n",
       "5040   951.657541  POLYGON ((-73.9851430608965 40.69488514300315,...  \n",
       "5041  1129.348482  POLYGON ((-73.98305147125492 40.69837793357372...  "
      ]
     },
     "execution_count": 172,
     "metadata": {},
     "output_type": "execute_result"
    }
   ],
   "source": [
    "ct_latlon.head()"
   ]
  },
  {
   "cell_type": "code",
   "execution_count": 173,
   "metadata": {
    "collapsed": true
   },
   "outputs": [],
   "source": [
    "cusp = pd.DataFrame"
   ]
  },
  {
   "cell_type": "code",
   "execution_count": 174,
   "metadata": {
    "collapsed": false
   },
   "outputs": [
    {
     "ename": "TypeError",
     "evalue": "'type' object does not support item assignment",
     "output_type": "error",
     "traceback": [
      "\u001b[0;31m\u001b[0m",
      "\u001b[0;31mTypeError\u001b[0mTraceback (most recent call last)",
      "\u001b[0;32m<ipython-input-174-4504ee7128ed>\u001b[0m in \u001b[0;36m<module>\u001b[0;34m()\u001b[0m\n\u001b[0;32m----> 1\u001b[0;31m \u001b[0mcusp\u001b[0m\u001b[0;34m[\u001b[0m\u001b[0;34m'lat'\u001b[0m\u001b[0;34m]\u001b[0m \u001b[0;34m=\u001b[0m \u001b[0;36m40.693110\u001b[0m\u001b[0;34m\u001b[0m\u001b[0m\n\u001b[0m\u001b[1;32m      2\u001b[0m \u001b[0mcusp\u001b[0m\u001b[0;34m[\u001b[0m\u001b[0;34m'long'\u001b[0m\u001b[0;34m]\u001b[0m \u001b[0;34m=\u001b[0m \u001b[0;34m-\u001b[0m\u001b[0;36m73.986787\u001b[0m\u001b[0;34m\u001b[0m\u001b[0m\n",
      "\u001b[0;31mTypeError\u001b[0m: 'type' object does not support item assignment"
     ]
    }
   ],
   "source": [
    "cusp['lat'] = 40.693110\n",
    "cusp['long'] = -73.986787"
   ]
  },
  {
   "cell_type": "code",
   "execution_count": 175,
   "metadata": {
    "collapsed": false
   },
   "outputs": [
    {
     "data": {
      "text/plain": [
       "pandas.core.frame.DataFrame"
      ]
     },
     "execution_count": 175,
     "metadata": {},
     "output_type": "execute_result"
    }
   ],
   "source": [
    "cusp"
   ]
  }
 ],
 "metadata": {
  "kernelspec": {
   "display_name": "PUI2016_Python2",
   "language": "python",
   "name": "pui2016_python2"
  },
  "language_info": {
   "codemirror_mode": {
    "name": "ipython",
    "version": 2
   },
   "file_extension": ".py",
   "mimetype": "text/x-python",
   "name": "python",
   "nbconvert_exporter": "python",
   "pygments_lexer": "ipython2",
   "version": "2.7.12"
  }
 },
 "nbformat": 4,
 "nbformat_minor": 0
}
