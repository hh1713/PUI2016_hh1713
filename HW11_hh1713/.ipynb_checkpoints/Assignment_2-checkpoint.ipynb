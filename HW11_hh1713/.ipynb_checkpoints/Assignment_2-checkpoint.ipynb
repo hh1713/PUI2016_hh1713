{
 "cells": [
  {
   "cell_type": "markdown",
   "metadata": {
    "collapsed": false
   },
   "source": [
    "# HW 11 - Assignment 2"
   ]
  },
  {
   "cell_type": "markdown",
   "metadata": {},
   "source": [
    "### Importing packages"
   ]
  },
  {
   "cell_type": "code",
   "execution_count": 172,
   "metadata": {
    "collapsed": true
   },
   "outputs": [],
   "source": [
    "import os\n",
    "import geopandas as gpd\n",
    "import zipfile as zp\n",
    "import pandas as pd\n",
    "import json\n",
    "import urllib as ulr\n",
    "import numpy as np\n",
    "import shapely\n",
    "from shapely.geometry import Point\n",
    "from shapely.geometry import Polygon\n",
    "from sklearn.metrics import silhouette_samples, silhouette_score\n",
    "from scipy.cluster.vq import kmeans2\n",
    "import sklearn.cluster\n",
    "from sklearn import mixture\n",
    "%matplotlib inline\n",
    "import matplotlib.pylab as plt\n"
   ]
  },
  {
   "cell_type": "markdown",
   "metadata": {},
   "source": [
    "### Downloading business zip data"
   ]
  },
  {
   "cell_type": "code",
   "execution_count": 173,
   "metadata": {
    "collapsed": false
   },
   "outputs": [
    {
     "name": "stdout",
     "output_type": "stream",
     "text": [
      "  % Total    % Received % Xferd  Average Speed   Time    Time     Time  Current\n",
      "                                 Dload  Upload   Total   Spent    Left  Speed\n",
      "100  139k    0  139k    0     0   629k      0 --:--:-- --:--:-- --:--:--  717k\n",
      "  % Total    % Received % Xferd  Average Speed   Time    Time     Time  Current\n",
      "                                 Dload  Upload   Total   Spent    Left  Speed\n",
      "100  597k  100  597k    0     0  3026k      0 --:--:-- --:--:-- --:--:-- 3110k\n",
      "  % Total    % Received % Xferd  Average Speed   Time    Time     Time  Current\n",
      "                                 Dload  Upload   Total   Spent    Left  Speed\n",
      "100  610k  100  610k    0     0  2357k      0 --:--:-- --:--:-- --:--:-- 2404k\n",
      "  % Total    % Received % Xferd  Average Speed   Time    Time     Time  Current\n",
      "                                 Dload  Upload   Total   Spent    Left  Speed\n",
      "100  617k  100  617k    0     0  3298k      0 --:--:-- --:--:-- --:--:-- 3375k\n",
      "  % Total    % Received % Xferd  Average Speed   Time    Time     Time  Current\n",
      "                                 Dload  Upload   Total   Spent    Left  Speed\n",
      "100  614k  100  614k    0     0  3623k      0 --:--:-- --:--:-- --:--:-- 3747k\n",
      "  % Total    % Received % Xferd  Average Speed   Time    Time     Time  Current\n",
      "                                 Dload  Upload   Total   Spent    Left  Speed\n",
      "100  603k  100  603k    0     0  1075k      0 --:--:-- --:--:-- --:--:-- 1085k\n",
      "  % Total    % Received % Xferd  Average Speed   Time    Time     Time  Current\n",
      "                                 Dload  Upload   Total   Spent    Left  Speed\n",
      "100  611k  100  611k    0     0  3516k      0 --:--:-- --:--:-- --:--:-- 3637k\n",
      "  % Total    % Received % Xferd  Average Speed   Time    Time     Time  Current\n",
      "                                 Dload  Upload   Total   Spent    Left  Speed\n",
      "100  613k  100  613k    0     0  3454k      0 --:--:-- --:--:-- --:--:-- 3547k\n",
      "  % Total    % Received % Xferd  Average Speed   Time    Time     Time  Current\n",
      "                                 Dload  Upload   Total   Spent    Left  Speed\n",
      "100  614k  100  614k    0     0  3091k      0 --:--:-- --:--:-- --:--:-- 3165k\n",
      "  % Total    % Received % Xferd  Average Speed   Time    Time     Time  Current\n",
      "                                 Dload  Upload   Total   Spent    Left  Speed\n",
      "100  606k  100  606k    0     0  3178k      0 --:--:-- --:--:-- --:--:-- 3259k\n",
      "  % Total    % Received % Xferd  Average Speed   Time    Time     Time  Current\n",
      "                                 Dload  Upload   Total   Spent    Left  Speed\n",
      "100  608k  100  608k    0     0  3267k      0 --:--:-- --:--:-- --:--:-- 3378k\n",
      "  % Total    % Received % Xferd  Average Speed   Time    Time     Time  Current\n",
      "                                 Dload  Upload   Total   Spent    Left  Speed\n",
      "100  611k  100  611k    0     0  3289k      0 --:--:-- --:--:-- --:--:-- 3357k\n",
      "  % Total    % Received % Xferd  Average Speed   Time    Time     Time  Current\n",
      "                                 Dload  Upload   Total   Spent    Left  Speed\n",
      "100  612k  100  612k    0     0  3556k      0 --:--:-- --:--:-- --:--:-- 3669k\n",
      "  % Total    % Received % Xferd  Average Speed   Time    Time     Time  Current\n",
      "                                 Dload  Upload   Total   Spent    Left  Speed\n",
      "100  614k  100  614k    0     0  1251k      0 --:--:-- --:--:-- --:--:-- 1261k\n",
      "  % Total    % Received % Xferd  Average Speed   Time    Time     Time  Current\n",
      "                                 Dload  Upload   Total   Spent    Left  Speed\n",
      "100  652k  100  652k    0     0  2427k      0 --:--:-- --:--:-- --:--:-- 2479k\n",
      "  % Total    % Received % Xferd  Average Speed   Time    Time     Time  Current\n",
      "                                 Dload  Upload   Total   Spent    Left  Speed\n",
      "100  647k  100  647k    0     0  2511k      0 --:--:-- --:--:-- --:--:-- 2570k\n",
      "  % Total    % Received % Xferd  Average Speed   Time    Time     Time  Current\n",
      "                                 Dload  Upload   Total   Spent    Left  Speed\n",
      "100  644k  100  644k    0     0  2157k      0 --:--:-- --:--:-- --:--:-- 2185k\n",
      "  % Total    % Received % Xferd  Average Speed   Time    Time     Time  Current\n",
      "                                 Dload  Upload   Total   Spent    Left  Speed\n",
      "100  778k  100  778k    0     0  3728k      0 --:--:-- --:--:-- --:--:-- 3836k\n",
      "  % Total    % Received % Xferd  Average Speed   Time    Time     Time  Current\n",
      "                                 Dload  Upload   Total   Spent    Left  Speed\n",
      "100  776k  100  776k    0     0  3148k      0 --:--:-- --:--:-- --:--:-- 3209k\n",
      "  % Total    % Received % Xferd  Average Speed   Time    Time     Time  Current\n",
      "                                 Dload  Upload   Total   Spent    Left  Speed\n",
      "100  716k  100  716k    0     0  2439k      0 --:--:-- --:--:-- --:--:-- 2487k\n",
      "  % Total    % Received % Xferd  Average Speed   Time    Time     Time  Current\n",
      "                                 Dload  Upload   Total   Spent    Left  Speed\n",
      "100  716k  100  716k    0     0  2612k      0 --:--:-- --:--:-- --:--:-- 2663k\n",
      "  % Total    % Received % Xferd  Average Speed   Time    Time     Time  Current\n",
      "                                 Dload  Upload   Total   Spent    Left  Speed\n",
      "100  717k  100  717k    0     0  3310k      0 --:--:-- --:--:-- --:--:-- 3399k\n",
      "  % Total    % Received % Xferd  Average Speed   Time    Time     Time  Current\n",
      "                                 Dload  Upload   Total   Spent    Left  Speed\n",
      "100  139k    0  139k    0     0   439k      0 --:--:-- --:--:-- --:--:--  446k\n"
     ]
    }
   ],
   "source": [
    "!curl -O 'http://www2.census.gov/programs-surveys/cbp/datasets/1993/zbp93totals.zip'\n",
    "!curl -O 'http://www2.census.gov/programs-surveys/cbp/datasets/1994/zbp94totals.zip'\n",
    "!curl -O 'http://www2.census.gov/programs-surveys/cbp/datasets/1995/zbp95totals.zip'\n",
    "!curl -O 'http://www2.census.gov/programs-surveys/cbp/datasets/1996/zbp96totals.zip'\n",
    "!curl -O 'http://www2.census.gov/programs-surveys/cbp/datasets/1997/zbp97totals.zip'\n",
    "!curl -O 'http://www2.census.gov/programs-surveys/cbp/datasets/1998/zbp98totals.zip'\n",
    "!curl -O 'http://www2.census.gov/programs-surveys/cbp/datasets/1999/zbp99totals.zip'\n",
    "!curl -O 'http://www2.census.gov/programs-surveys/cbp/datasets/2000/zbp00totals.zip'\n",
    "!curl -O 'http://www2.census.gov/programs-surveys/cbp/datasets/2001/zbp01totals.zip'\n",
    "!curl -O 'http://www2.census.gov/programs-surveys/cbp/datasets/2002/zbp02totals.zip'\n",
    "!curl -O 'http://www2.census.gov/programs-surveys/cbp/datasets/2003/zbp03totals.zip'\n",
    "!curl -O 'http://www2.census.gov/programs-surveys/cbp/datasets/2004/zbp04totals.zip'\n",
    "!curl -O 'http://www2.census.gov/programs-surveys/cbp/datasets/2005/zbp05totals.zip'\n",
    "!curl -O 'http://www2.census.gov/programs-surveys/cbp/datasets/2006/zbp06totals.zip'\n",
    "!curl -O 'http://www2.census.gov/programs-surveys/cbp/datasets/2007/zbp07totals.zip'\n",
    "!curl -O 'http://www2.census.gov/programs-surveys/cbp/datasets/2008/zbp08totals.zip'\n",
    "!curl -O 'http://www2.census.gov/programs-surveys/cbp/datasets/2009/zbp09totals.zip'\n",
    "!curl -O 'http://www2.census.gov/programs-surveys/cbp/datasets/2010/zbp10totals.zip'\n",
    "!curl -O 'http://www2.census.gov/programs-surveys/cbp/datasets/2011/zbp11totals.zip'\n",
    "!curl -O 'http://www2.census.gov/programs-surveys/cbp/datasets/2012/zbp12totals.zip'\n",
    "!curl -O 'http://www2.census.gov/programs-surveys/cbp/datasets/2013/zbp13totals.zip'\n",
    "!curl -O 'http://www2.census.gov/programs-surveys/cbp/datasets/2014/zbp14totals.zip'\n",
    "!curl -O 'http://www2.census.gov/programs-surveys/cbp/datasets/2015/zbp15totals.zip'\n"
   ]
  },
  {
   "cell_type": "code",
   "execution_count": 174,
   "metadata": {
    "collapsed": false
   },
   "outputs": [
    {
     "data": {
      "text/plain": [
       "256"
      ]
     },
     "execution_count": 174,
     "metadata": {},
     "output_type": "execute_result"
    }
   ],
   "source": [
    "os.system('mkdir data')"
   ]
  },
  {
   "cell_type": "code",
   "execution_count": 175,
   "metadata": {
    "collapsed": false
   },
   "outputs": [
    {
     "data": {
      "text/plain": [
       "0"
      ]
     },
     "execution_count": 175,
     "metadata": {},
     "output_type": "execute_result"
    }
   ],
   "source": [
    "os.system('mv zbp**totals.zip data')"
   ]
  },
  {
   "cell_type": "markdown",
   "metadata": {},
   "source": [
    "### Upload the data with pandas"
   ]
  },
  {
   "cell_type": "code",
   "execution_count": 176,
   "metadata": {
    "collapsed": false
   },
   "outputs": [],
   "source": [
    "zf94 = zp.ZipFile('data/zbp94totals.zip')\n",
    "zf95 = zp.ZipFile('data/zbp95totals.zip')\n",
    "zf96 = zp.ZipFile('data/zbp96totals.zip')\n",
    "zf97 = zp.ZipFile('data/zbp97totals.zip')\n",
    "zf98 = zp.ZipFile('data/zbp98totals.zip')\n",
    "zf99 = zp.ZipFile('data/zbp99totals.zip')\n",
    "zf00 = zp.ZipFile('data/zbp00totals.zip')\n",
    "zf01 = zp.ZipFile('data/zbp01totals.zip')\n",
    "zf02 = zp.ZipFile('data/zbp02totals.zip')\n",
    "zf03 = zp.ZipFile('data/zbp03totals.zip')\n",
    "zf04 = zp.ZipFile('data/zbp04totals.zip')\n",
    "zf05 = zp.ZipFile('data/zbp05totals.zip')\n",
    "zf06 = zp.ZipFile('data/zbp06totals.zip')\n",
    "zf07 = zp.ZipFile('data/zbp07totals.zip')\n",
    "zf08 = zp.ZipFile('data/zbp08totals.zip')\n",
    "zf09 = zp.ZipFile('data/zbp09totals.zip')\n",
    "zf10 = zp.ZipFile('data/zbp10totals.zip')\n",
    "zf11 = zp.ZipFile('data/zbp11totals.zip')\n",
    "zf12 = zp.ZipFile('data/zbp12totals.zip')\n",
    "zf13 = zp.ZipFile('data/zbp13totals.zip')\n",
    "zf14 = zp.ZipFile('data/zbp14totals.zip')\n"
   ]
  },
  {
   "cell_type": "code",
   "execution_count": 177,
   "metadata": {
    "collapsed": false
   },
   "outputs": [],
   "source": [
    "df_94 = pd.read_csv(zf94.open('zbp94totals.zip'.replace('.zip','.txt')))\n",
    "df_95 = pd.read_csv(zf95.open('zbp95totals.zip'.replace('.zip','.txt')))\n",
    "df_96 = pd.read_csv(zf96.open('zbp96totals.zip'.replace('.zip','.txt')))\n",
    "df_97 = pd.read_csv(zf97.open('zbp97totals.zip'.replace('.zip','.txt')))\n",
    "df_98 = pd.read_csv(zf98.open('zbp98totals.zip'.replace('.zip','.txt')))\n",
    "df_99 = pd.read_csv(zf99.open('zbp99totals.zip'.replace('.zip','.txt')))\n",
    "df_00 = pd.read_csv(zf00.open('zbp00totals.zip'.replace('.zip','.txt')))\n",
    "df_01 = pd.read_csv(zf01.open('zbp01totals.zip'.replace('.zip','.txt')))\n",
    "df_02 = pd.read_csv(zf02.open('zbp02totals.zip'.replace('.zip','.txt')))\n",
    "df_03 = pd.read_csv(zf03.open('zbp03totals.zip'.replace('.zip','.txt')))\n",
    "df_04 = pd.read_csv(zf04.open('zbp04totals.zip'.replace('.zip','.txt')))\n",
    "df_05 = pd.read_csv(zf05.open('zbp05totals.zip'.replace('.zip','.txt')))\n",
    "df_06 = pd.read_csv(zf06.open('zbp06totals.zip'.replace('.zip','.txt')))\n",
    "df_07 = pd.read_csv(zf07.open('zbp07totals.zip'.replace('.zip','.txt')))\n",
    "df_08 = pd.read_csv(zf08.open('zbp08totals.zip'.replace('.zip','.txt')))\n",
    "df_09 = pd.read_csv(zf09.open('zbp09totals.zip'.replace('.zip','.txt')))\n",
    "df_10 = pd.read_csv(zf10.open('zbp10totals.zip'.replace('.zip','.txt')))\n",
    "df_11 = pd.read_csv(zf11.open('zbp11totals.zip'.replace('.zip','.txt')))\n",
    "df_12 = pd.read_csv(zf12.open('zbp12totals.zip'.replace('.zip','.txt')))\n",
    "df_13 = pd.read_csv(zf13.open('zbp13totals.zip'.replace('.zip','.txt')))\n",
    "df_14 = pd.read_csv(zf14.open('zbp14totals.zip'.replace('.zip','.txt')))\n"
   ]
  },
  {
   "cell_type": "markdown",
   "metadata": {},
   "source": [
    "### Downloading geojson data and munging it"
   ]
  },
  {
   "cell_type": "code",
   "execution_count": 178,
   "metadata": {
    "collapsed": false
   },
   "outputs": [],
   "source": [
    "url = \"https://raw.githubusercontent.com/fedhere/PUI2016_fb55/master/HW11_fb55/nyc-zip-code-tabulation-areas-polygons.geojson\" \n",
    "response = ulr.urlopen(url)\n",
    "data = response.read().decode(\"utf-8\")\n",
    "data = json.loads(data)"
   ]
  },
  {
   "cell_type": "code",
   "execution_count": 179,
   "metadata": {
    "collapsed": false,
    "scrolled": true
   },
   "outputs": [],
   "source": [
    "def great_NM_HH_function (json):\n",
    "    \"\"\"\n",
    "    A function that retrieves information needed from the json data file and creates a dataframe\n",
    "    \"\"\"\n",
    "    df=pd.DataFrame()\n",
    "    df['geometry']=[]\n",
    "    df['PO_NAME']=[]\n",
    "    df['Shape_Leng']=[]\n",
    "    df['Shape_Area']=[]\n",
    "    df['borough']=[]\n",
    "    df['postalCode']=[]\n",
    "    \n",
    "    for i in range(262):\n",
    "        df = df.append({'geometry': Polygon(data['features'][i]['geometry']['coordinates'][0]),\n",
    "                        'PO_NAME' : data['features'][i]['properties']['PO_NAME'],\n",
    "                        'Shape_Area' : data['features'][i]['properties']['Shape_Area'],\n",
    "                        'Shape_Leng' : data['features'][i]['properties']['Shape_Leng'],\n",
    "                        'borough' : data['features'][i]['properties']['borough'],\n",
    "                        'postalCode' : data['features'][i]['properties']['postalCode']\n",
    "                       },ignore_index=True)\n",
    "\n",
    "    return df\n"
   ]
  },
  {
   "cell_type": "code",
   "execution_count": 180,
   "metadata": {
    "collapsed": false
   },
   "outputs": [],
   "source": [
    "geo_df=great_NM_HH_function(data['features'])"
   ]
  },
  {
   "cell_type": "code",
   "execution_count": 181,
   "metadata": {
    "collapsed": false
   },
   "outputs": [],
   "source": [
    "geo_df=gpd.GeoDataFrame(geo_df)"
   ]
  },
  {
   "cell_type": "code",
   "execution_count": 182,
   "metadata": {
    "collapsed": true
   },
   "outputs": [],
   "source": [
    "geo_df.columns=['geometry', 'PO_NAME', 'Shape_Leng', 'Shape_Area', 'borough',\n",
    "       'zip']"
   ]
  },
  {
   "cell_type": "markdown",
   "metadata": {},
   "source": [
    "### Getting business zip data ready for merging"
   ]
  },
  {
   "cell_type": "code",
   "execution_count": 183,
   "metadata": {
    "collapsed": false
   },
   "outputs": [],
   "source": [
    "# selecting columns of interest\n",
    "df_94=df_94.iloc[:,[0,6]]\n",
    "df_95=df_95.iloc[:,[0,6]]\n",
    "df_96=df_96.iloc[:,[0,6]]\n",
    "df_97=df_97.iloc[:,[0,6]]\n",
    "df_98=df_98.iloc[:,[0,6]]\n",
    "df_99=df_99.iloc[:,[0,6]]\n",
    "df_00=df_00.iloc[:,[0,6]]\n",
    "df_01=df_01.iloc[:,[0,6]]\n",
    "df_02=df_02.iloc[:,[0,6]]\n",
    "df_03=df_03.iloc[:,[0,6]]\n",
    "df_04=df_04.iloc[:,[0,6]]\n",
    "df_05=df_05.iloc[:,[0,6]]\n",
    "df_06=df_06.iloc[:,[0,6]]\n",
    "df_07=df_07.iloc[:,[0,9]]\n",
    "df_08=df_08.iloc[:,[0,9]]\n",
    "df_09=df_09.iloc[:,[0,9]]\n",
    "df_10=df_10.iloc[:,[0,9]]\n",
    "df_11=df_11.iloc[:,[0,9]]\n",
    "df_12=df_12.iloc[:,[0,9]]\n",
    "df_13=df_13.iloc[:,[0,9]]\n",
    "df_14=df_14.iloc[:,[0,9]]"
   ]
  },
  {
   "cell_type": "code",
   "execution_count": 184,
   "metadata": {
    "collapsed": false
   },
   "outputs": [],
   "source": [
    "# setting the same format for all names\n",
    "df_98.columns=['zip','est']\n",
    "df_99.columns=['zip','est']\n",
    "df_00.columns=['zip','est']\n",
    "df_01.columns=['zip','est']\n",
    "df_02.columns=['zip','est']"
   ]
  },
  {
   "cell_type": "markdown",
   "metadata": {},
   "source": [
    "### Merging data"
   ]
  },
  {
   "cell_type": "code",
   "execution_count": 185,
   "metadata": {
    "collapsed": true
   },
   "outputs": [],
   "source": [
    "# creating a list from all business zip dataframes\n",
    "lis=[df_94,df_95,df_96,df_97,df_98,df_99,df_00,df_01,df_02,df_03,df_04,\n",
    "     df_05,df_06,df_07,df_08,df_09,df_10,df_11,df_12,df_13,df_14]\n"
   ]
  },
  {
   "cell_type": "code",
   "execution_count": 186,
   "metadata": {
    "collapsed": false
   },
   "outputs": [],
   "source": [
    "# merging\n",
    "for i in lis:\n",
    "    if 'zip' in i.columns:\n",
    "        i['zip']=i['zip'].astype(str)\n",
    "        geo_df = pd.merge(left = geo_df, \n",
    "                             right= i, \n",
    "                             how = 'left', \n",
    "                             on = 'zip')\n",
    "   \n",
    "    "
   ]
  },
  {
   "cell_type": "code",
   "execution_count": 187,
   "metadata": {
    "collapsed": false
   },
   "outputs": [],
   "source": [
    "# creating a list to rename columns of dataframe\n",
    "colums=['geometry', 'PO_NAME', 'Shape_Leng', 'Shape_Area', 'borough', 'zip']\n",
    "years=range(1994,2015)\n",
    "for i in years:\n",
    "    colums.append(str(i))"
   ]
  },
  {
   "cell_type": "code",
   "execution_count": 188,
   "metadata": {
    "collapsed": false
   },
   "outputs": [],
   "source": [
    "geo_df.columns=colums"
   ]
  },
  {
   "cell_type": "code",
   "execution_count": 189,
   "metadata": {
    "collapsed": false
   },
   "outputs": [
    {
     "data": {
      "text/html": [
       "<div>\n",
       "<table border=\"1\" class=\"dataframe\">\n",
       "  <thead>\n",
       "    <tr style=\"text-align: right;\">\n",
       "      <th></th>\n",
       "      <th>geometry</th>\n",
       "      <th>PO_NAME</th>\n",
       "      <th>Shape_Leng</th>\n",
       "      <th>Shape_Area</th>\n",
       "      <th>borough</th>\n",
       "      <th>zip</th>\n",
       "      <th>1994</th>\n",
       "      <th>1995</th>\n",
       "      <th>1996</th>\n",
       "      <th>1997</th>\n",
       "      <th>...</th>\n",
       "      <th>2005</th>\n",
       "      <th>2006</th>\n",
       "      <th>2007</th>\n",
       "      <th>2008</th>\n",
       "      <th>2009</th>\n",
       "      <th>2010</th>\n",
       "      <th>2011</th>\n",
       "      <th>2012</th>\n",
       "      <th>2013</th>\n",
       "      <th>2014</th>\n",
       "    </tr>\n",
       "  </thead>\n",
       "  <tbody>\n",
       "    <tr>\n",
       "      <th>0</th>\n",
       "      <td>POLYGON ((-73.86942457284175 40.74915687096787...</td>\n",
       "      <td>Jackson Heights</td>\n",
       "      <td>20624.692317</td>\n",
       "      <td>2.016328e+07</td>\n",
       "      <td>Queens</td>\n",
       "      <td>11372</td>\n",
       "      <td>1229.0</td>\n",
       "      <td>1236.0</td>\n",
       "      <td>1292.0</td>\n",
       "      <td>1309.0</td>\n",
       "      <td>...</td>\n",
       "      <td>1539.0</td>\n",
       "      <td>1527.0</td>\n",
       "      <td>1545.0</td>\n",
       "      <td>1538.0</td>\n",
       "      <td>1572.0</td>\n",
       "      <td>1629.0</td>\n",
       "      <td>1647.0</td>\n",
       "      <td>1724.0</td>\n",
       "      <td>1759.0</td>\n",
       "      <td>1768.0</td>\n",
       "    </tr>\n",
       "    <tr>\n",
       "      <th>1</th>\n",
       "      <td>POLYGON ((-73.71068374074007 40.75004039450917...</td>\n",
       "      <td>Glen Oaks</td>\n",
       "      <td>23002.816039</td>\n",
       "      <td>2.260653e+07</td>\n",
       "      <td>Queens</td>\n",
       "      <td>11004</td>\n",
       "      <td>194.0</td>\n",
       "      <td>188.0</td>\n",
       "      <td>176.0</td>\n",
       "      <td>192.0</td>\n",
       "      <td>...</td>\n",
       "      <td>225.0</td>\n",
       "      <td>226.0</td>\n",
       "      <td>238.0</td>\n",
       "      <td>227.0</td>\n",
       "      <td>233.0</td>\n",
       "      <td>229.0</td>\n",
       "      <td>222.0</td>\n",
       "      <td>241.0</td>\n",
       "      <td>241.0</td>\n",
       "      <td>250.0</td>\n",
       "    </tr>\n",
       "    <tr>\n",
       "      <th>2</th>\n",
       "      <td>POLYGON ((-73.70098278625547 40.73889569923034...</td>\n",
       "      <td>New Hyde Park</td>\n",
       "      <td>15749.161511</td>\n",
       "      <td>6.269333e+06</td>\n",
       "      <td>Queens</td>\n",
       "      <td>11040</td>\n",
       "      <td>1422.0</td>\n",
       "      <td>1414.0</td>\n",
       "      <td>1335.0</td>\n",
       "      <td>1344.0</td>\n",
       "      <td>...</td>\n",
       "      <td>1441.0</td>\n",
       "      <td>1454.0</td>\n",
       "      <td>1488.0</td>\n",
       "      <td>1503.0</td>\n",
       "      <td>1475.0</td>\n",
       "      <td>1494.0</td>\n",
       "      <td>1488.0</td>\n",
       "      <td>1510.0</td>\n",
       "      <td>1539.0</td>\n",
       "      <td>1534.0</td>\n",
       "    </tr>\n",
       "    <tr>\n",
       "      <th>3</th>\n",
       "      <td>POLYGON ((-73.72270447144122 40.75373371438336...</td>\n",
       "      <td>Bellerose</td>\n",
       "      <td>35932.810639</td>\n",
       "      <td>4.941836e+07</td>\n",
       "      <td>Queens</td>\n",
       "      <td>11426</td>\n",
       "      <td>326.0</td>\n",
       "      <td>219.0</td>\n",
       "      <td>209.0</td>\n",
       "      <td>198.0</td>\n",
       "      <td>...</td>\n",
       "      <td>226.0</td>\n",
       "      <td>226.0</td>\n",
       "      <td>228.0</td>\n",
       "      <td>226.0</td>\n",
       "      <td>237.0</td>\n",
       "      <td>248.0</td>\n",
       "      <td>256.0</td>\n",
       "      <td>266.0</td>\n",
       "      <td>258.0</td>\n",
       "      <td>260.0</td>\n",
       "    </tr>\n",
       "    <tr>\n",
       "      <th>4</th>\n",
       "      <td>POLYGON ((-73.81088634744755 40.72717187575918...</td>\n",
       "      <td>Fresh Meadows</td>\n",
       "      <td>38693.565676</td>\n",
       "      <td>6.938587e+07</td>\n",
       "      <td>Queens</td>\n",
       "      <td>11365</td>\n",
       "      <td>492.0</td>\n",
       "      <td>476.0</td>\n",
       "      <td>483.0</td>\n",
       "      <td>522.0</td>\n",
       "      <td>...</td>\n",
       "      <td>604.0</td>\n",
       "      <td>608.0</td>\n",
       "      <td>617.0</td>\n",
       "      <td>616.0</td>\n",
       "      <td>628.0</td>\n",
       "      <td>643.0</td>\n",
       "      <td>677.0</td>\n",
       "      <td>679.0</td>\n",
       "      <td>714.0</td>\n",
       "      <td>731.0</td>\n",
       "    </tr>\n",
       "  </tbody>\n",
       "</table>\n",
       "<p>5 rows × 27 columns</p>\n",
       "</div>"
      ],
      "text/plain": [
       "                                            geometry          PO_NAME  \\\n",
       "0  POLYGON ((-73.86942457284175 40.74915687096787...  Jackson Heights   \n",
       "1  POLYGON ((-73.71068374074007 40.75004039450917...        Glen Oaks   \n",
       "2  POLYGON ((-73.70098278625547 40.73889569923034...    New Hyde Park   \n",
       "3  POLYGON ((-73.72270447144122 40.75373371438336...        Bellerose   \n",
       "4  POLYGON ((-73.81088634744755 40.72717187575918...    Fresh Meadows   \n",
       "\n",
       "     Shape_Leng    Shape_Area borough    zip    1994    1995    1996    1997  \\\n",
       "0  20624.692317  2.016328e+07  Queens  11372  1229.0  1236.0  1292.0  1309.0   \n",
       "1  23002.816039  2.260653e+07  Queens  11004   194.0   188.0   176.0   192.0   \n",
       "2  15749.161511  6.269333e+06  Queens  11040  1422.0  1414.0  1335.0  1344.0   \n",
       "3  35932.810639  4.941836e+07  Queens  11426   326.0   219.0   209.0   198.0   \n",
       "4  38693.565676  6.938587e+07  Queens  11365   492.0   476.0   483.0   522.0   \n",
       "\n",
       "    ...      2005    2006    2007    2008    2009    2010    2011    2012  \\\n",
       "0   ...    1539.0  1527.0  1545.0  1538.0  1572.0  1629.0  1647.0  1724.0   \n",
       "1   ...     225.0   226.0   238.0   227.0   233.0   229.0   222.0   241.0   \n",
       "2   ...    1441.0  1454.0  1488.0  1503.0  1475.0  1494.0  1488.0  1510.0   \n",
       "3   ...     226.0   226.0   228.0   226.0   237.0   248.0   256.0   266.0   \n",
       "4   ...     604.0   608.0   617.0   616.0   628.0   643.0   677.0   679.0   \n",
       "\n",
       "     2013    2014  \n",
       "0  1759.0  1768.0  \n",
       "1   241.0   250.0  \n",
       "2  1539.0  1534.0  \n",
       "3   258.0   260.0  \n",
       "4   714.0   731.0  \n",
       "\n",
       "[5 rows x 27 columns]"
      ]
     },
     "execution_count": 189,
     "metadata": {},
     "output_type": "execute_result"
    }
   ],
   "source": [
    "geo_df.head()"
   ]
  },
  {
   "cell_type": "code",
   "execution_count": 190,
   "metadata": {
    "collapsed": false
   },
   "outputs": [
    {
     "data": {
      "text/html": [
       "<div>\n",
       "<table border=\"1\" class=\"dataframe\">\n",
       "  <thead>\n",
       "    <tr style=\"text-align: right;\">\n",
       "      <th></th>\n",
       "      <th>1994</th>\n",
       "      <th>1995</th>\n",
       "      <th>1996</th>\n",
       "      <th>1997</th>\n",
       "      <th>1998</th>\n",
       "      <th>1999</th>\n",
       "      <th>2000</th>\n",
       "      <th>2001</th>\n",
       "      <th>2002</th>\n",
       "      <th>2003</th>\n",
       "      <th>...</th>\n",
       "      <th>2005</th>\n",
       "      <th>2006</th>\n",
       "      <th>2007</th>\n",
       "      <th>2008</th>\n",
       "      <th>2009</th>\n",
       "      <th>2010</th>\n",
       "      <th>2011</th>\n",
       "      <th>2012</th>\n",
       "      <th>2013</th>\n",
       "      <th>2014</th>\n",
       "    </tr>\n",
       "  </thead>\n",
       "  <tbody>\n",
       "    <tr>\n",
       "      <th>count</th>\n",
       "      <td>255.000000</td>\n",
       "      <td>251.000000</td>\n",
       "      <td>252.000000</td>\n",
       "      <td>252.000000</td>\n",
       "      <td>252.000000</td>\n",
       "      <td>249.000000</td>\n",
       "      <td>253.000000</td>\n",
       "      <td>253.000000</td>\n",
       "      <td>252.000000</td>\n",
       "      <td>252.000000</td>\n",
       "      <td>...</td>\n",
       "      <td>254.000000</td>\n",
       "      <td>255.000000</td>\n",
       "      <td>256.000000</td>\n",
       "      <td>253.000000</td>\n",
       "      <td>253.000000</td>\n",
       "      <td>254.000000</td>\n",
       "      <td>253.000000</td>\n",
       "      <td>251.000000</td>\n",
       "      <td>251.000000</td>\n",
       "      <td>250.000000</td>\n",
       "    </tr>\n",
       "    <tr>\n",
       "      <th>mean</th>\n",
       "      <td>753.301961</td>\n",
       "      <td>780.446215</td>\n",
       "      <td>787.369048</td>\n",
       "      <td>806.873016</td>\n",
       "      <td>818.666667</td>\n",
       "      <td>834.686747</td>\n",
       "      <td>835.936759</td>\n",
       "      <td>835.790514</td>\n",
       "      <td>844.833333</td>\n",
       "      <td>854.678571</td>\n",
       "      <td>...</td>\n",
       "      <td>867.700787</td>\n",
       "      <td>869.533333</td>\n",
       "      <td>872.996094</td>\n",
       "      <td>889.162055</td>\n",
       "      <td>893.723320</td>\n",
       "      <td>903.842520</td>\n",
       "      <td>918.881423</td>\n",
       "      <td>942.980080</td>\n",
       "      <td>960.924303</td>\n",
       "      <td>979.932000</td>\n",
       "    </tr>\n",
       "    <tr>\n",
       "      <th>std</th>\n",
       "      <td>1126.814763</td>\n",
       "      <td>1159.086499</td>\n",
       "      <td>1160.771736</td>\n",
       "      <td>1185.509721</td>\n",
       "      <td>1196.503868</td>\n",
       "      <td>1198.974454</td>\n",
       "      <td>1215.367687</td>\n",
       "      <td>1219.853192</td>\n",
       "      <td>1185.377532</td>\n",
       "      <td>1185.936198</td>\n",
       "      <td>...</td>\n",
       "      <td>1210.201625</td>\n",
       "      <td>1216.154349</td>\n",
       "      <td>1199.140913</td>\n",
       "      <td>1199.305114</td>\n",
       "      <td>1184.002565</td>\n",
       "      <td>1184.687564</td>\n",
       "      <td>1190.480549</td>\n",
       "      <td>1204.430141</td>\n",
       "      <td>1216.102978</td>\n",
       "      <td>1226.936034</td>\n",
       "    </tr>\n",
       "    <tr>\n",
       "      <th>min</th>\n",
       "      <td>1.000000</td>\n",
       "      <td>1.000000</td>\n",
       "      <td>1.000000</td>\n",
       "      <td>1.000000</td>\n",
       "      <td>1.000000</td>\n",
       "      <td>1.000000</td>\n",
       "      <td>1.000000</td>\n",
       "      <td>1.000000</td>\n",
       "      <td>1.000000</td>\n",
       "      <td>1.000000</td>\n",
       "      <td>...</td>\n",
       "      <td>1.000000</td>\n",
       "      <td>1.000000</td>\n",
       "      <td>1.000000</td>\n",
       "      <td>1.000000</td>\n",
       "      <td>1.000000</td>\n",
       "      <td>1.000000</td>\n",
       "      <td>1.000000</td>\n",
       "      <td>1.000000</td>\n",
       "      <td>1.000000</td>\n",
       "      <td>1.000000</td>\n",
       "    </tr>\n",
       "    <tr>\n",
       "      <th>25%</th>\n",
       "      <td>NaN</td>\n",
       "      <td>NaN</td>\n",
       "      <td>NaN</td>\n",
       "      <td>NaN</td>\n",
       "      <td>NaN</td>\n",
       "      <td>NaN</td>\n",
       "      <td>NaN</td>\n",
       "      <td>NaN</td>\n",
       "      <td>NaN</td>\n",
       "      <td>NaN</td>\n",
       "      <td>...</td>\n",
       "      <td>NaN</td>\n",
       "      <td>NaN</td>\n",
       "      <td>NaN</td>\n",
       "      <td>NaN</td>\n",
       "      <td>NaN</td>\n",
       "      <td>NaN</td>\n",
       "      <td>NaN</td>\n",
       "      <td>NaN</td>\n",
       "      <td>NaN</td>\n",
       "      <td>NaN</td>\n",
       "    </tr>\n",
       "    <tr>\n",
       "      <th>50%</th>\n",
       "      <td>NaN</td>\n",
       "      <td>NaN</td>\n",
       "      <td>NaN</td>\n",
       "      <td>NaN</td>\n",
       "      <td>NaN</td>\n",
       "      <td>NaN</td>\n",
       "      <td>NaN</td>\n",
       "      <td>NaN</td>\n",
       "      <td>NaN</td>\n",
       "      <td>NaN</td>\n",
       "      <td>...</td>\n",
       "      <td>NaN</td>\n",
       "      <td>NaN</td>\n",
       "      <td>NaN</td>\n",
       "      <td>NaN</td>\n",
       "      <td>NaN</td>\n",
       "      <td>NaN</td>\n",
       "      <td>NaN</td>\n",
       "      <td>NaN</td>\n",
       "      <td>NaN</td>\n",
       "      <td>NaN</td>\n",
       "    </tr>\n",
       "    <tr>\n",
       "      <th>75%</th>\n",
       "      <td>NaN</td>\n",
       "      <td>NaN</td>\n",
       "      <td>NaN</td>\n",
       "      <td>NaN</td>\n",
       "      <td>NaN</td>\n",
       "      <td>NaN</td>\n",
       "      <td>NaN</td>\n",
       "      <td>NaN</td>\n",
       "      <td>NaN</td>\n",
       "      <td>NaN</td>\n",
       "      <td>...</td>\n",
       "      <td>NaN</td>\n",
       "      <td>NaN</td>\n",
       "      <td>NaN</td>\n",
       "      <td>NaN</td>\n",
       "      <td>NaN</td>\n",
       "      <td>NaN</td>\n",
       "      <td>NaN</td>\n",
       "      <td>NaN</td>\n",
       "      <td>NaN</td>\n",
       "      <td>NaN</td>\n",
       "    </tr>\n",
       "    <tr>\n",
       "      <th>max</th>\n",
       "      <td>6999.000000</td>\n",
       "      <td>7088.000000</td>\n",
       "      <td>7075.000000</td>\n",
       "      <td>7154.000000</td>\n",
       "      <td>7254.000000</td>\n",
       "      <td>7233.000000</td>\n",
       "      <td>7317.000000</td>\n",
       "      <td>7188.000000</td>\n",
       "      <td>7141.000000</td>\n",
       "      <td>7084.000000</td>\n",
       "      <td>...</td>\n",
       "      <td>7312.000000</td>\n",
       "      <td>7415.000000</td>\n",
       "      <td>7549.000000</td>\n",
       "      <td>7472.000000</td>\n",
       "      <td>7305.000000</td>\n",
       "      <td>7241.000000</td>\n",
       "      <td>7227.000000</td>\n",
       "      <td>7235.000000</td>\n",
       "      <td>7273.000000</td>\n",
       "      <td>7369.000000</td>\n",
       "    </tr>\n",
       "  </tbody>\n",
       "</table>\n",
       "<p>8 rows × 21 columns</p>\n",
       "</div>"
      ],
      "text/plain": [
       "              1994         1995         1996         1997         1998  \\\n",
       "count   255.000000   251.000000   252.000000   252.000000   252.000000   \n",
       "mean    753.301961   780.446215   787.369048   806.873016   818.666667   \n",
       "std    1126.814763  1159.086499  1160.771736  1185.509721  1196.503868   \n",
       "min       1.000000     1.000000     1.000000     1.000000     1.000000   \n",
       "25%            NaN          NaN          NaN          NaN          NaN   \n",
       "50%            NaN          NaN          NaN          NaN          NaN   \n",
       "75%            NaN          NaN          NaN          NaN          NaN   \n",
       "max    6999.000000  7088.000000  7075.000000  7154.000000  7254.000000   \n",
       "\n",
       "              1999         2000         2001         2002         2003  \\\n",
       "count   249.000000   253.000000   253.000000   252.000000   252.000000   \n",
       "mean    834.686747   835.936759   835.790514   844.833333   854.678571   \n",
       "std    1198.974454  1215.367687  1219.853192  1185.377532  1185.936198   \n",
       "min       1.000000     1.000000     1.000000     1.000000     1.000000   \n",
       "25%            NaN          NaN          NaN          NaN          NaN   \n",
       "50%            NaN          NaN          NaN          NaN          NaN   \n",
       "75%            NaN          NaN          NaN          NaN          NaN   \n",
       "max    7233.000000  7317.000000  7188.000000  7141.000000  7084.000000   \n",
       "\n",
       "          ...              2005         2006         2007         2008  \\\n",
       "count     ...        254.000000   255.000000   256.000000   253.000000   \n",
       "mean      ...        867.700787   869.533333   872.996094   889.162055   \n",
       "std       ...       1210.201625  1216.154349  1199.140913  1199.305114   \n",
       "min       ...          1.000000     1.000000     1.000000     1.000000   \n",
       "25%       ...               NaN          NaN          NaN          NaN   \n",
       "50%       ...               NaN          NaN          NaN          NaN   \n",
       "75%       ...               NaN          NaN          NaN          NaN   \n",
       "max       ...       7312.000000  7415.000000  7549.000000  7472.000000   \n",
       "\n",
       "              2009         2010         2011         2012         2013  \\\n",
       "count   253.000000   254.000000   253.000000   251.000000   251.000000   \n",
       "mean    893.723320   903.842520   918.881423   942.980080   960.924303   \n",
       "std    1184.002565  1184.687564  1190.480549  1204.430141  1216.102978   \n",
       "min       1.000000     1.000000     1.000000     1.000000     1.000000   \n",
       "25%            NaN          NaN          NaN          NaN          NaN   \n",
       "50%            NaN          NaN          NaN          NaN          NaN   \n",
       "75%            NaN          NaN          NaN          NaN          NaN   \n",
       "max    7305.000000  7241.000000  7227.000000  7235.000000  7273.000000   \n",
       "\n",
       "              2014  \n",
       "count   250.000000  \n",
       "mean    979.932000  \n",
       "std    1226.936034  \n",
       "min       1.000000  \n",
       "25%            NaN  \n",
       "50%            NaN  \n",
       "75%            NaN  \n",
       "max    7369.000000  \n",
       "\n",
       "[8 rows x 21 columns]"
      ]
     },
     "execution_count": 190,
     "metadata": {},
     "output_type": "execute_result"
    }
   ],
   "source": [
    "geo_df.iloc[:, 6:].describe()\n",
    "#describe()"
   ]
  },
  {
   "cell_type": "markdown",
   "metadata": {},
   "source": [
    "### Whitening the data"
   ]
  },
  {
   "cell_type": "code",
   "execution_count": null,
   "metadata": {
    "collapsed": false
   },
   "outputs": [
    {
     "name": "stderr",
     "output_type": "stream",
     "text": [
      "/opt/rh/anaconda/root/envs/PUI2016_Python2/lib/python2.7/site-packages/ipykernel/__main__.py:3: SettingWithCopyWarning: \n",
      "A value is trying to be set on a copy of a slice from a DataFrame\n",
      "\n",
      "See the caveats in the documentation: http://pandas.pydata.org/pandas-docs/stable/indexing.html#indexing-view-versus-copy\n",
      "  app.launch_new_instance()\n"
     ]
    }
   ],
   "source": [
    "for year in geo_df.iloc[:, 6:]:\n",
    "    for i in range(0, len(geo_df)):\n",
    "        geo_df[year][i] = ((geo_df[year][i] - geo_df[year].mean()) / geo_df[year].std())"
   ]
  },
  {
   "cell_type": "code",
   "execution_count": null,
   "metadata": {
    "collapsed": false
   },
   "outputs": [],
   "source": [
    "geo_df.head()"
   ]
  },
  {
   "cell_type": "code",
   "execution_count": null,
   "metadata": {
    "collapsed": false
   },
   "outputs": [],
   "source": [
    "geo_df.iloc[:, 6:].mean()"
   ]
  },
  {
   "cell_type": "code",
   "execution_count": null,
   "metadata": {
    "collapsed": false
   },
   "outputs": [],
   "source": [
    "geo_df.iloc[:, 6:].std()"
   ]
  },
  {
   "cell_type": "markdown",
   "metadata": {},
   "source": [
    "### Clustering"
   ]
  },
  {
   "cell_type": "code",
   "execution_count": null,
   "metadata": {
    "collapsed": true
   },
   "outputs": [],
   "source": [
    "geo_df.dropna(inplace=True)"
   ]
  },
  {
   "cell_type": "code",
   "execution_count": null,
   "metadata": {
    "collapsed": true
   },
   "outputs": [],
   "source": [
    "scaled_data = geo_df.iloc[:, 6:]"
   ]
  },
  {
   "cell_type": "code",
   "execution_count": null,
   "metadata": {
    "collapsed": false
   },
   "outputs": [],
   "source": [
    "# calculate silhouette score for deciding no. clusters\n",
    "X=scaled_data\n",
    "range_n_clusters = [3, 4, 5, 6, 7, 8, 9]\n",
    "for n_clusters in range_n_clusters:\n",
    "    km = cluster.KMeans(n_clusters=n_clusters, random_state=324) #the clustering model we choose (HH)\n",
    "    cluster_labels = km.fit_predict(X)\n",
    "    silhouette_avg = silhouette_score(X, cluster_labels)\n",
    "    print(\"For n_clusters ={},\".format(n_clusters)+\" the average silhouette_score is :{}\".format(silhouette_avg))"
   ]
  },
  {
   "cell_type": "markdown",
   "metadata": {},
   "source": [
    "We go with 3 clusters according to the calculated silhouette score"
   ]
  },
  {
   "cell_type": "code",
   "execution_count": null,
   "metadata": {
    "collapsed": false
   },
   "outputs": [],
   "source": [
    "n=3 # number of clusters.\n",
    "\n",
    "#Kmeans\n",
    "import sklearn.cluster as cluster\n",
    "KM=cluster.KMeans(n_clusters=n)\n",
    "KM.fit(scaled_data)\n",
    "res_KM=KM.predict(scaled_data)\n",
    "\n",
    "#merge the result with zipcodes for graph plotting\n",
    "res_KM=pd.concat((geo_df.loc[:, 'zip'],pd.DataFrame(res_KM)),axis=1)\n",
    "res_KM.columns = ['zip', 'cluster']\n",
    "res_KM.head()"
   ]
  },
  {
   "cell_type": "code",
   "execution_count": null,
   "metadata": {
    "collapsed": false
   },
   "outputs": [],
   "source": [
    "print 'Number of zipcodes in first cluster: %d' %res_KM.groupby('cluster').size()[0]\n",
    "print 'Number of zipcodes in second cluster: %d' %res_KM.groupby('cluster').size()[1]\n",
    "print 'Number of zipcodes in third cluster: %d' %res_KM.groupby('cluster').size()[2]"
   ]
  },
  {
   "cell_type": "code",
   "execution_count": null,
   "metadata": {
    "collapsed": true
   },
   "outputs": [],
   "source": [
    "# merging cluster info\n",
    "geo_df = pd.merge(left=geo_df, right=res_KM, how='left', on='zip')"
   ]
  },
  {
   "cell_type": "code",
   "execution_count": null,
   "metadata": {
    "collapsed": false,
    "scrolled": true
   },
   "outputs": [],
   "source": [
    "geo_df.plot(c=geo_df.cluster)"
   ]
  }
 ],
 "metadata": {
  "anaconda-cloud": {},
  "kernelspec": {
   "display_name": "PUI2016_Python2",
   "language": "python",
   "name": "pui2016_python2"
  },
  "language_info": {
   "codemirror_mode": {
    "name": "ipython",
    "version": 2
   },
   "file_extension": ".py",
   "mimetype": "text/x-python",
   "name": "python",
   "nbconvert_exporter": "python",
   "pygments_lexer": "ipython2",
   "version": "2.7.12"
  }
 },
 "nbformat": 4,
 "nbformat_minor": 0
}
