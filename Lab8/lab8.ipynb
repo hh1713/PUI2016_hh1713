{
 "cells": [
  {
   "cell_type": "markdown",
   "metadata": {},
   "source": [
    "# Working with Data - Computer Lab for Guest Lecture Julia Lane\n",
    "\n",
    "In this computer lab we will learn more more details and practice data work to enhance the content of the lecture presented by Julia Lane on responsible data use. We will address a research question, think about data and measurement errors, and manipulate data. \n",
    "\n",
    "OUTLINE: \n",
    "1. Define a research question \n",
    "2. Think about what data are available \n",
    "3. Think about possible measurement errors \n",
    "4. Think about the interpretation of your results \n",
    "5. Inform your results by linking datasets "
   ]
  },
  {
   "cell_type": "markdown",
   "metadata": {
    "raw_mimetype": "text/markdown"
   },
   "source": [
    "# 1. Define a reserach question\n",
    "Which Community Districts in NYC show the highest number of complaints?\n",
    "\n",
    "# 2. Think about what data are available\n",
    "Find suitable data by searching the CUSP Data Catalog https://datahub.cusp.nyu.edu/catalog. You can use Urban Profiler to investigate the Metadata associated with each dataset. Using this tool will help you to decide which attributes of the data you need to answer your question so you don't have to load the entire dataset. "
   ]
  },
  {
   "cell_type": "code",
   "execution_count": 2,
   "metadata": {
    "collapsed": false
   },
   "outputs": [],
   "source": [
    "import os\n",
    "import pandas as pd\n",
    "import numpy as np\n",
    "import re\n",
    "PUIdata = os.getenv('PUIDATA')"
   ]
  },
  {
   "cell_type": "code",
   "execution_count": 69,
   "metadata": {
    "collapsed": false
   },
   "outputs": [],
   "source": [
    "# reading in data, only columns that interest us\n",
    "data = pd.read_csv('https://data.cityofnewyork.us/resource/erm2-nwe9.csv', usecols=[0,1,8,23])"
   ]
  },
  {
   "cell_type": "markdown",
   "metadata": {},
   "source": [
    "# 3. Think about possible measurement errors\n",
    "Do you see any problems regarding possible measurement error? Think about who is represented in the data, ommissions, duplications, content error, missing data, etc. "
   ]
  },
  {
   "cell_type": "code",
   "execution_count": 71,
   "metadata": {
    "collapsed": false
   },
   "outputs": [
    {
     "name": "stdout",
     "output_type": "stream",
     "text": [
      "Number of unique Community Districts: 61\n",
      "We should have 59 Community Districts.\n",
      "We have 2 too many Community Districts in our dataset.\n"
     ]
    }
   ],
   "source": [
    "# counting unique community districts\n",
    "print \"Number of unique Community Districts: %d\" %len(data.groupby(['Community Board'])['Community Board'].nunique())\n",
    "print \"We should have 59 Community Districts.\"\n",
    "print \"We have %d too many Community Districts in our dataset.\" %(len(data.groupby\n",
    "                                                                     (['Community Board'])['Community Board'].nunique()) - 59)"
   ]
  },
  {
   "cell_type": "code",
   "execution_count": 72,
   "metadata": {
    "collapsed": false
   },
   "outputs": [
    {
     "name": "stdout",
     "output_type": "stream",
     "text": [
      "                 Unique Key  Created Date  Incident Zip\n",
      "Community Board                                        \n",
      "0 Unspecified             8             8             0\n",
      "                      Unique Key  Created Date  Incident Zip\n",
      "Community Board                                             \n",
      "Unspecified BROOKLYN           1             1             0\n"
     ]
    }
   ],
   "source": [
    "# inspecting the data\n",
    "print data.groupby(['Community Board']).count().head(1)\n",
    "print data.groupby(['Community Board']).count().tail(1)"
   ]
  },
  {
   "cell_type": "markdown",
   "metadata": {},
   "source": [
    "Looking into our dataset we have 8 unique values with an Unspecified Community District and 1 unique value with an Unspecified Brooklyn Community District. This explains where the two extra Community Districts come from."
   ]
  },
  {
   "cell_type": "code",
   "execution_count": 73,
   "metadata": {
    "collapsed": false
   },
   "outputs": [],
   "source": [
    "# dropping unspecified community boards\n",
    "data = data[data['Community Board'] != \"0 Unspecified\"]\n",
    "data = data[data['Community Board'] != \"Unspecified BROOKLYN\"]"
   ]
  },
  {
   "cell_type": "code",
   "execution_count": 236,
   "metadata": {
    "collapsed": false
   },
   "outputs": [
    {
     "name": "stderr",
     "output_type": "stream",
     "text": [
      "/opt/rh/anaconda/root/envs/PUI2016_Python2/lib/python2.7/site-packages/ipykernel/__main__.py:4: FutureWarning: sort(columns=....) is deprecated, use sort_values(by=.....)\n"
     ]
    },
    {
     "data": {
      "text/html": [
       "<div>\n",
       "<table border=\"1\" class=\"dataframe\">\n",
       "  <thead>\n",
       "    <tr style=\"text-align: right;\">\n",
       "      <th></th>\n",
       "      <th>no_complaints</th>\n",
       "    </tr>\n",
       "    <tr>\n",
       "      <th>Community Board</th>\n",
       "      <th></th>\n",
       "    </tr>\n",
       "  </thead>\n",
       "  <tbody>\n",
       "    <tr>\n",
       "      <th>12 MANHATTAN</th>\n",
       "      <td>70</td>\n",
       "    </tr>\n",
       "    <tr>\n",
       "      <th>03 MANHATTAN</th>\n",
       "      <td>48</td>\n",
       "    </tr>\n",
       "    <tr>\n",
       "      <th>05 QUEENS</th>\n",
       "      <td>36</td>\n",
       "    </tr>\n",
       "    <tr>\n",
       "      <th>04 BROOKLYN</th>\n",
       "      <td>34</td>\n",
       "    </tr>\n",
       "    <tr>\n",
       "      <th>01 BROOKLYN</th>\n",
       "      <td>32</td>\n",
       "    </tr>\n",
       "    <tr>\n",
       "      <th>17 BROOKLYN</th>\n",
       "      <td>32</td>\n",
       "    </tr>\n",
       "    <tr>\n",
       "      <th>01 QUEENS</th>\n",
       "      <td>32</td>\n",
       "    </tr>\n",
       "    <tr>\n",
       "      <th>11 BRONX</th>\n",
       "      <td>29</td>\n",
       "    </tr>\n",
       "    <tr>\n",
       "      <th>07 BRONX</th>\n",
       "      <td>28</td>\n",
       "    </tr>\n",
       "    <tr>\n",
       "      <th>09 QUEENS</th>\n",
       "      <td>27</td>\n",
       "    </tr>\n",
       "  </tbody>\n",
       "</table>\n",
       "</div>"
      ],
      "text/plain": [
       "                 no_complaints\n",
       "Community Board               \n",
       "12 MANHATTAN                70\n",
       "03 MANHATTAN                48\n",
       "05 QUEENS                   36\n",
       "04 BROOKLYN                 34\n",
       "01 BROOKLYN                 32\n",
       "17 BROOKLYN                 32\n",
       "01 QUEENS                   32\n",
       "11 BRONX                    29\n",
       "07 BRONX                    28\n",
       "09 QUEENS                   27"
      ]
     },
     "execution_count": 236,
     "metadata": {},
     "output_type": "execute_result"
    }
   ],
   "source": [
    "# reducing data to Community District Level and listing the 10 Community Districts with the most complains\n",
    "dataframe1 = pd.DataFrame(data.groupby(['Community Board'])['Unique Key'].count(), )\n",
    "dataframe1.rename(columns={'Unique Key' : 'no_complaints'}, inplace=True)\n",
    "dataframe1.sort(columns='no_complaints', ascending=False).head(10)"
   ]
  },
  {
   "cell_type": "markdown",
   "metadata": {},
   "source": [
    "# 4. Think about the interpretation of your results?\n",
    "What do you have to keep in mind when interpreting your results? Are they generable? Does the way the data is collected influence your results? To better inform city agancies it might be good to explore in more detail the underlying dempgraphics/infrastructure of a Community District becasue this might influence 311 calls. You can do this by merging external data on the Community District level to your analysis data. "
   ]
  },
  {
   "cell_type": "code",
   "execution_count": 109,
   "metadata": {
    "collapsed": false
   },
   "outputs": [
    {
     "data": {
      "text/plain": [
       "0"
      ]
     },
     "execution_count": 109,
     "metadata": {},
     "output_type": "execute_result"
    }
   ],
   "source": [
    "os.system(\"curl -O http://cosmo.nyu.edu/~fb55/PUI2016/data/Final_Demographics.csv\")\n",
    "os.system(\"mv Final_Demographics.csv \" +'/'+ PUIdata)"
   ]
  },
  {
   "cell_type": "code",
   "execution_count": 110,
   "metadata": {
    "collapsed": false
   },
   "outputs": [],
   "source": [
    "# Population by Community District\n",
    "df_pop = pd.read_csv(PUIdata + \"/Final_Demographics.csv\")"
   ]
  },
  {
   "cell_type": "code",
   "execution_count": 124,
   "metadata": {
    "collapsed": false,
    "scrolled": true
   },
   "outputs": [
    {
     "name": "stdout",
     "output_type": "stream",
     "text": [
      "Number of community districts: 59\n"
     ]
    }
   ],
   "source": [
    "# How many community districts are in file? \n",
    "print \"Number of community districts: %d\" %len(df_pop.groupby(['cd_id'])['cd_id'].nunique())"
   ]
  },
  {
   "cell_type": "code",
   "execution_count": 220,
   "metadata": {
    "collapsed": false
   },
   "outputs": [
    {
     "data": {
      "text/html": [
       "<div>\n",
       "<table border=\"1\" class=\"dataframe\">\n",
       "  <thead>\n",
       "    <tr style=\"text-align: right;\">\n",
       "      <th></th>\n",
       "      <th>FIPS</th>\n",
       "      <th>cd_id</th>\n",
       "      <th>Total Population</th>\n",
       "      <th>% Population 5 Years And Over: Spanish or Spanish Creole: Speak English Less Than \"very Well\"</th>\n",
       "      <th>% Population 25 Years and over: Less Than High School</th>\n",
       "      <th>Median household income (In 2014 Inflation Adjusted Dollars)</th>\n",
       "    </tr>\n",
       "  </thead>\n",
       "  <tbody>\n",
       "    <tr>\n",
       "      <th>0</th>\n",
       "      <td>3603701</td>\n",
       "      <td>BX08</td>\n",
       "      <td>106737</td>\n",
       "      <td>15.24</td>\n",
       "      <td>16.93</td>\n",
       "      <td>54224</td>\n",
       "    </tr>\n",
       "    <tr>\n",
       "      <th>1</th>\n",
       "      <td>3603702</td>\n",
       "      <td>BX12</td>\n",
       "      <td>134644</td>\n",
       "      <td>6.07</td>\n",
       "      <td>19.78</td>\n",
       "      <td>44906</td>\n",
       "    </tr>\n",
       "    <tr>\n",
       "      <th>2</th>\n",
       "      <td>3603703</td>\n",
       "      <td>BX10</td>\n",
       "      <td>121209</td>\n",
       "      <td>6.92</td>\n",
       "      <td>17.34</td>\n",
       "      <td>54962</td>\n",
       "    </tr>\n",
       "    <tr>\n",
       "      <th>3</th>\n",
       "      <td>3603704</td>\n",
       "      <td>BX11</td>\n",
       "      <td>135839</td>\n",
       "      <td>13.66</td>\n",
       "      <td>22.84</td>\n",
       "      <td>47910</td>\n",
       "    </tr>\n",
       "    <tr>\n",
       "      <th>4</th>\n",
       "      <td>3603705</td>\n",
       "      <td>BX03</td>\n",
       "      <td>172247</td>\n",
       "      <td>24.14</td>\n",
       "      <td>38.02</td>\n",
       "      <td>22041</td>\n",
       "    </tr>\n",
       "  </tbody>\n",
       "</table>\n",
       "</div>"
      ],
      "text/plain": [
       "      FIPS cd_id  Total Population  \\\n",
       "0  3603701  BX08            106737   \n",
       "1  3603702  BX12            134644   \n",
       "2  3603703  BX10            121209   \n",
       "3  3603704  BX11            135839   \n",
       "4  3603705  BX03            172247   \n",
       "\n",
       "   % Population 5 Years And Over: Spanish or Spanish Creole: Speak English Less Than \"very Well\"  \\\n",
       "0                                              15.24                                               \n",
       "1                                               6.07                                               \n",
       "2                                               6.92                                               \n",
       "3                                              13.66                                               \n",
       "4                                              24.14                                               \n",
       "\n",
       "   % Population 25 Years and over: Less Than High School  \\\n",
       "0                                              16.93       \n",
       "1                                              19.78       \n",
       "2                                              17.34       \n",
       "3                                              22.84       \n",
       "4                                              38.02       \n",
       "\n",
       "   Median household income (In 2014 Inflation Adjusted Dollars)  \n",
       "0                                              54224             \n",
       "1                                              44906             \n",
       "2                                              54962             \n",
       "3                                              47910             \n",
       "4                                              22041             "
      ]
     },
     "execution_count": 220,
     "metadata": {},
     "output_type": "execute_result"
    }
   ],
   "source": [
    "# Manipulating data to get some information on demographics by Community District. \n",
    "dataframe2 = df_pop[['FIPS', 'cd_id', 'Total Population', \n",
    "                          '% Population 5 Years And Over: Spanish or Spanish Creole: Speak English Less Than \"very Well\"', \n",
    "                         '% Population 25 Years and over: Less Than High School', \n",
    "                         'Median household income (In 2014 Inflation Adjusted Dollars)']]\n",
    "dataframe2.head()"
   ]
  },
  {
   "cell_type": "code",
   "execution_count": 139,
   "metadata": {
    "collapsed": false
   },
   "outputs": [
    {
     "data": {
      "text/plain": [
       "0"
      ]
     },
     "execution_count": 139,
     "metadata": {},
     "output_type": "execute_result"
    }
   ],
   "source": [
    "os.system(\"curl -O http://cosmo.nyu.edu/~fb55/PUI2016/data/ACS_Computer_Use_and_Internet_2014_1Year_Estimate.csv\")\n",
    "os.system(\"mv ACS_Computer_Use_and_Internet_2014_1Year_Estimate.csv \" +'/'+ PUIdata)"
   ]
  },
  {
   "cell_type": "code",
   "execution_count": 140,
   "metadata": {
    "collapsed": false
   },
   "outputs": [],
   "source": [
    "# Infrastructure by Community District\n",
    "df_infr = pd.read_csv(PUIdata + \"/ACS_Computer_Use_and_Internet_2014_1Year_Estimate.csv\")"
   ]
  },
  {
   "cell_type": "code",
   "execution_count": 144,
   "metadata": {
    "collapsed": false,
    "scrolled": false
   },
   "outputs": [
    {
     "data": {
      "text/plain": [
       "Index([u'FIPS', u'Geographic Identifier', u'Qualifying Name', u'Households',\n",
       "       u'Households: With An Internet Subscription',\n",
       "       u'Households: Dial-Up Alone', u'Households: Dsl',\n",
       "       u'Households: With Mobile Broadband',\n",
       "       u'Households: Without Mobile Broadband', u'Households: Cable Modem',\n",
       "       u'Households: With Mobile Broadband.1',\n",
       "       u'Households: Without Mobile Broadband.1', u'Households: Fiber-Optic',\n",
       "       u'Households: With Mobile Broadband.2',\n",
       "       u'Households: Without Mobile Broadband.2',\n",
       "       u'Households: Satellite Internet Service',\n",
       "       u'Households: With Mobile Broadband.3',\n",
       "       u'Households: Without Mobile Broadband.3',\n",
       "       u'Households: Two or More Fixed Broadband Types, or Other',\n",
       "       u'Households: With Mobile Broadband.4',\n",
       "       u'Households: Without Mobile Broadband.4',\n",
       "       u'Households: Mobile Broadband Alone or With Dialup',\n",
       "       u'Households: Internet Access Without A Subscription',\n",
       "       u'Households: No Internet Access',\n",
       "       u'% Households: With An Internet Subscription', u'Households.1',\n",
       "       u'Households: Has A Computer',\n",
       "       u'Households: With Dial-Up Internet Subscription Alone',\n",
       "       u'Households: With A Broadband Internet Subscription',\n",
       "       u'Households: Without An Internet Subscription',\n",
       "       u'Households: No Computer'],\n",
       "      dtype='object')"
      ]
     },
     "execution_count": 144,
     "metadata": {},
     "output_type": "execute_result"
    }
   ],
   "source": [
    "# Check variables in file\n",
    "df_infr.columns\n",
    "#df_infr.head()"
   ]
  },
  {
   "cell_type": "code",
   "execution_count": 164,
   "metadata": {
    "collapsed": false
   },
   "outputs": [
    {
     "name": "stdout",
     "output_type": "stream",
     "text": [
      "Number of community districts: 55\n",
      "We are missing 4 districts.\n"
     ]
    }
   ],
   "source": [
    "# How many community districts are in file? \n",
    "print \"Number of community districts: %d\" %len(df_infr.groupby(['Qualifying Name'])['Qualifying Name'].nunique())\n",
    "print \"We are missing %d districts.\" %(59-len(df_infr.groupby(['Qualifying Name'])['Qualifying Name'].nunique()))"
   ]
  },
  {
   "cell_type": "code",
   "execution_count": 168,
   "metadata": {
    "collapsed": false,
    "scrolled": false
   },
   "outputs": [
    {
     "name": "stderr",
     "output_type": "stream",
     "text": [
      "/opt/rh/anaconda/root/envs/PUI2016_Python2/lib/python2.7/site-packages/ipykernel/__main__.py:2: FutureWarning: sort(columns=....) is deprecated, use sort_values(by=.....)\n",
      "  from ipykernel import kernelapp as app\n"
     ]
    },
    {
     "data": {
      "text/html": [
       "<div>\n",
       "<table border=\"1\" class=\"dataframe\">\n",
       "  <thead>\n",
       "    <tr style=\"text-align: right;\">\n",
       "      <th></th>\n",
       "      <th>FIPS</th>\n",
       "      <th>Geographic Identifier</th>\n",
       "      <th>Households</th>\n",
       "      <th>Households: With An Internet Subscription</th>\n",
       "      <th>Households: Dial-Up Alone</th>\n",
       "      <th>Households: Dsl</th>\n",
       "      <th>Households: With Mobile Broadband</th>\n",
       "      <th>Households: Without Mobile Broadband</th>\n",
       "      <th>Households: Cable Modem</th>\n",
       "      <th>Households: With Mobile Broadband.1</th>\n",
       "      <th>...</th>\n",
       "      <th>Households: Mobile Broadband Alone or With Dialup</th>\n",
       "      <th>Households: Internet Access Without A Subscription</th>\n",
       "      <th>Households: No Internet Access</th>\n",
       "      <th>% Households: With An Internet Subscription</th>\n",
       "      <th>Households.1</th>\n",
       "      <th>Households: Has A Computer</th>\n",
       "      <th>Households: With Dial-Up Internet Subscription Alone</th>\n",
       "      <th>Households: With A Broadband Internet Subscription</th>\n",
       "      <th>Households: Without An Internet Subscription</th>\n",
       "      <th>Households: No Computer</th>\n",
       "    </tr>\n",
       "    <tr>\n",
       "      <th>Qualifying Name</th>\n",
       "      <th></th>\n",
       "      <th></th>\n",
       "      <th></th>\n",
       "      <th></th>\n",
       "      <th></th>\n",
       "      <th></th>\n",
       "      <th></th>\n",
       "      <th></th>\n",
       "      <th></th>\n",
       "      <th></th>\n",
       "      <th></th>\n",
       "      <th></th>\n",
       "      <th></th>\n",
       "      <th></th>\n",
       "      <th></th>\n",
       "      <th></th>\n",
       "      <th></th>\n",
       "      <th></th>\n",
       "      <th></th>\n",
       "      <th></th>\n",
       "      <th></th>\n",
       "    </tr>\n",
       "  </thead>\n",
       "  <tbody>\n",
       "    <tr>\n",
       "      <th>NYC-Bronx Community District 1 &amp; 2--Hunts Point, New York</th>\n",
       "      <td>2</td>\n",
       "      <td>2</td>\n",
       "      <td>2</td>\n",
       "      <td>2</td>\n",
       "      <td>2</td>\n",
       "      <td>2</td>\n",
       "      <td>2</td>\n",
       "      <td>2</td>\n",
       "      <td>2</td>\n",
       "      <td>2</td>\n",
       "      <td>...</td>\n",
       "      <td>2</td>\n",
       "      <td>2</td>\n",
       "      <td>2</td>\n",
       "      <td>2</td>\n",
       "      <td>2</td>\n",
       "      <td>2</td>\n",
       "      <td>2</td>\n",
       "      <td>2</td>\n",
       "      <td>2</td>\n",
       "      <td>2</td>\n",
       "    </tr>\n",
       "    <tr>\n",
       "      <th>NYC-Bronx Community District 3 &amp; 6--Belmont, New York</th>\n",
       "      <td>2</td>\n",
       "      <td>2</td>\n",
       "      <td>2</td>\n",
       "      <td>2</td>\n",
       "      <td>2</td>\n",
       "      <td>2</td>\n",
       "      <td>2</td>\n",
       "      <td>2</td>\n",
       "      <td>2</td>\n",
       "      <td>2</td>\n",
       "      <td>...</td>\n",
       "      <td>2</td>\n",
       "      <td>2</td>\n",
       "      <td>2</td>\n",
       "      <td>2</td>\n",
       "      <td>2</td>\n",
       "      <td>2</td>\n",
       "      <td>2</td>\n",
       "      <td>2</td>\n",
       "      <td>2</td>\n",
       "      <td>2</td>\n",
       "    </tr>\n",
       "    <tr>\n",
       "      <th>NYC-Manhattan Community District 4 &amp; 5--Chelsea, New York</th>\n",
       "      <td>2</td>\n",
       "      <td>2</td>\n",
       "      <td>2</td>\n",
       "      <td>2</td>\n",
       "      <td>2</td>\n",
       "      <td>2</td>\n",
       "      <td>2</td>\n",
       "      <td>2</td>\n",
       "      <td>2</td>\n",
       "      <td>2</td>\n",
       "      <td>...</td>\n",
       "      <td>2</td>\n",
       "      <td>2</td>\n",
       "      <td>2</td>\n",
       "      <td>2</td>\n",
       "      <td>2</td>\n",
       "      <td>2</td>\n",
       "      <td>2</td>\n",
       "      <td>2</td>\n",
       "      <td>2</td>\n",
       "      <td>2</td>\n",
       "    </tr>\n",
       "    <tr>\n",
       "      <th>NYC-Manhattan Community District 1 &amp; 2--Battery Park City, New York</th>\n",
       "      <td>2</td>\n",
       "      <td>2</td>\n",
       "      <td>2</td>\n",
       "      <td>2</td>\n",
       "      <td>2</td>\n",
       "      <td>2</td>\n",
       "      <td>2</td>\n",
       "      <td>2</td>\n",
       "      <td>2</td>\n",
       "      <td>2</td>\n",
       "      <td>...</td>\n",
       "      <td>2</td>\n",
       "      <td>2</td>\n",
       "      <td>2</td>\n",
       "      <td>2</td>\n",
       "      <td>2</td>\n",
       "      <td>2</td>\n",
       "      <td>2</td>\n",
       "      <td>2</td>\n",
       "      <td>2</td>\n",
       "      <td>2</td>\n",
       "    </tr>\n",
       "    <tr>\n",
       "      <th>NYC-Queens Community District 12--Jamaica, New York</th>\n",
       "      <td>1</td>\n",
       "      <td>1</td>\n",
       "      <td>1</td>\n",
       "      <td>1</td>\n",
       "      <td>1</td>\n",
       "      <td>1</td>\n",
       "      <td>1</td>\n",
       "      <td>1</td>\n",
       "      <td>1</td>\n",
       "      <td>1</td>\n",
       "      <td>...</td>\n",
       "      <td>1</td>\n",
       "      <td>1</td>\n",
       "      <td>1</td>\n",
       "      <td>1</td>\n",
       "      <td>1</td>\n",
       "      <td>1</td>\n",
       "      <td>1</td>\n",
       "      <td>1</td>\n",
       "      <td>1</td>\n",
       "      <td>1</td>\n",
       "    </tr>\n",
       "  </tbody>\n",
       "</table>\n",
       "<p>5 rows × 30 columns</p>\n",
       "</div>"
      ],
      "text/plain": [
       "                                                    FIPS  \\\n",
       "Qualifying Name                                            \n",
       "NYC-Bronx Community District 1 & 2--Hunts Point...     2   \n",
       "NYC-Bronx Community District 3 & 6--Belmont, Ne...     2   \n",
       "NYC-Manhattan Community District 4 & 5--Chelsea...     2   \n",
       "NYC-Manhattan Community District 1 & 2--Battery...     2   \n",
       "NYC-Queens Community District 12--Jamaica, New ...     1   \n",
       "\n",
       "                                                    Geographic Identifier  \\\n",
       "Qualifying Name                                                             \n",
       "NYC-Bronx Community District 1 & 2--Hunts Point...                      2   \n",
       "NYC-Bronx Community District 3 & 6--Belmont, Ne...                      2   \n",
       "NYC-Manhattan Community District 4 & 5--Chelsea...                      2   \n",
       "NYC-Manhattan Community District 1 & 2--Battery...                      2   \n",
       "NYC-Queens Community District 12--Jamaica, New ...                      1   \n",
       "\n",
       "                                                    Households  \\\n",
       "Qualifying Name                                                  \n",
       "NYC-Bronx Community District 1 & 2--Hunts Point...           2   \n",
       "NYC-Bronx Community District 3 & 6--Belmont, Ne...           2   \n",
       "NYC-Manhattan Community District 4 & 5--Chelsea...           2   \n",
       "NYC-Manhattan Community District 1 & 2--Battery...           2   \n",
       "NYC-Queens Community District 12--Jamaica, New ...           1   \n",
       "\n",
       "                                                    Households: With An Internet Subscription  \\\n",
       "Qualifying Name                                                                                 \n",
       "NYC-Bronx Community District 1 & 2--Hunts Point...                                          2   \n",
       "NYC-Bronx Community District 3 & 6--Belmont, Ne...                                          2   \n",
       "NYC-Manhattan Community District 4 & 5--Chelsea...                                          2   \n",
       "NYC-Manhattan Community District 1 & 2--Battery...                                          2   \n",
       "NYC-Queens Community District 12--Jamaica, New ...                                          1   \n",
       "\n",
       "                                                    Households: Dial-Up Alone  \\\n",
       "Qualifying Name                                                                 \n",
       "NYC-Bronx Community District 1 & 2--Hunts Point...                          2   \n",
       "NYC-Bronx Community District 3 & 6--Belmont, Ne...                          2   \n",
       "NYC-Manhattan Community District 4 & 5--Chelsea...                          2   \n",
       "NYC-Manhattan Community District 1 & 2--Battery...                          2   \n",
       "NYC-Queens Community District 12--Jamaica, New ...                          1   \n",
       "\n",
       "                                                    Households: Dsl  \\\n",
       "Qualifying Name                                                       \n",
       "NYC-Bronx Community District 1 & 2--Hunts Point...                2   \n",
       "NYC-Bronx Community District 3 & 6--Belmont, Ne...                2   \n",
       "NYC-Manhattan Community District 4 & 5--Chelsea...                2   \n",
       "NYC-Manhattan Community District 1 & 2--Battery...                2   \n",
       "NYC-Queens Community District 12--Jamaica, New ...                1   \n",
       "\n",
       "                                                    Households: With Mobile Broadband  \\\n",
       "Qualifying Name                                                                         \n",
       "NYC-Bronx Community District 1 & 2--Hunts Point...                                  2   \n",
       "NYC-Bronx Community District 3 & 6--Belmont, Ne...                                  2   \n",
       "NYC-Manhattan Community District 4 & 5--Chelsea...                                  2   \n",
       "NYC-Manhattan Community District 1 & 2--Battery...                                  2   \n",
       "NYC-Queens Community District 12--Jamaica, New ...                                  1   \n",
       "\n",
       "                                                    Households: Without Mobile Broadband  \\\n",
       "Qualifying Name                                                                            \n",
       "NYC-Bronx Community District 1 & 2--Hunts Point...                                     2   \n",
       "NYC-Bronx Community District 3 & 6--Belmont, Ne...                                     2   \n",
       "NYC-Manhattan Community District 4 & 5--Chelsea...                                     2   \n",
       "NYC-Manhattan Community District 1 & 2--Battery...                                     2   \n",
       "NYC-Queens Community District 12--Jamaica, New ...                                     1   \n",
       "\n",
       "                                                    Households: Cable Modem  \\\n",
       "Qualifying Name                                                               \n",
       "NYC-Bronx Community District 1 & 2--Hunts Point...                        2   \n",
       "NYC-Bronx Community District 3 & 6--Belmont, Ne...                        2   \n",
       "NYC-Manhattan Community District 4 & 5--Chelsea...                        2   \n",
       "NYC-Manhattan Community District 1 & 2--Battery...                        2   \n",
       "NYC-Queens Community District 12--Jamaica, New ...                        1   \n",
       "\n",
       "                                                    Households: With Mobile Broadband.1  \\\n",
       "Qualifying Name                                                                           \n",
       "NYC-Bronx Community District 1 & 2--Hunts Point...                                    2   \n",
       "NYC-Bronx Community District 3 & 6--Belmont, Ne...                                    2   \n",
       "NYC-Manhattan Community District 4 & 5--Chelsea...                                    2   \n",
       "NYC-Manhattan Community District 1 & 2--Battery...                                    2   \n",
       "NYC-Queens Community District 12--Jamaica, New ...                                    1   \n",
       "\n",
       "                                                             ...             \\\n",
       "Qualifying Name                                              ...              \n",
       "NYC-Bronx Community District 1 & 2--Hunts Point...           ...              \n",
       "NYC-Bronx Community District 3 & 6--Belmont, Ne...           ...              \n",
       "NYC-Manhattan Community District 4 & 5--Chelsea...           ...              \n",
       "NYC-Manhattan Community District 1 & 2--Battery...           ...              \n",
       "NYC-Queens Community District 12--Jamaica, New ...           ...              \n",
       "\n",
       "                                                    Households: Mobile Broadband Alone or With Dialup  \\\n",
       "Qualifying Name                                                                                         \n",
       "NYC-Bronx Community District 1 & 2--Hunts Point...                                                  2   \n",
       "NYC-Bronx Community District 3 & 6--Belmont, Ne...                                                  2   \n",
       "NYC-Manhattan Community District 4 & 5--Chelsea...                                                  2   \n",
       "NYC-Manhattan Community District 1 & 2--Battery...                                                  2   \n",
       "NYC-Queens Community District 12--Jamaica, New ...                                                  1   \n",
       "\n",
       "                                                    Households: Internet Access Without A Subscription  \\\n",
       "Qualifying Name                                                                                          \n",
       "NYC-Bronx Community District 1 & 2--Hunts Point...                                                  2    \n",
       "NYC-Bronx Community District 3 & 6--Belmont, Ne...                                                  2    \n",
       "NYC-Manhattan Community District 4 & 5--Chelsea...                                                  2    \n",
       "NYC-Manhattan Community District 1 & 2--Battery...                                                  2    \n",
       "NYC-Queens Community District 12--Jamaica, New ...                                                  1    \n",
       "\n",
       "                                                    Households: No Internet Access  \\\n",
       "Qualifying Name                                                                      \n",
       "NYC-Bronx Community District 1 & 2--Hunts Point...                               2   \n",
       "NYC-Bronx Community District 3 & 6--Belmont, Ne...                               2   \n",
       "NYC-Manhattan Community District 4 & 5--Chelsea...                               2   \n",
       "NYC-Manhattan Community District 1 & 2--Battery...                               2   \n",
       "NYC-Queens Community District 12--Jamaica, New ...                               1   \n",
       "\n",
       "                                                    % Households: With An Internet Subscription  \\\n",
       "Qualifying Name                                                                                   \n",
       "NYC-Bronx Community District 1 & 2--Hunts Point...                                            2   \n",
       "NYC-Bronx Community District 3 & 6--Belmont, Ne...                                            2   \n",
       "NYC-Manhattan Community District 4 & 5--Chelsea...                                            2   \n",
       "NYC-Manhattan Community District 1 & 2--Battery...                                            2   \n",
       "NYC-Queens Community District 12--Jamaica, New ...                                            1   \n",
       "\n",
       "                                                    Households.1  \\\n",
       "Qualifying Name                                                    \n",
       "NYC-Bronx Community District 1 & 2--Hunts Point...             2   \n",
       "NYC-Bronx Community District 3 & 6--Belmont, Ne...             2   \n",
       "NYC-Manhattan Community District 4 & 5--Chelsea...             2   \n",
       "NYC-Manhattan Community District 1 & 2--Battery...             2   \n",
       "NYC-Queens Community District 12--Jamaica, New ...             1   \n",
       "\n",
       "                                                    Households: Has A Computer  \\\n",
       "Qualifying Name                                                                  \n",
       "NYC-Bronx Community District 1 & 2--Hunts Point...                           2   \n",
       "NYC-Bronx Community District 3 & 6--Belmont, Ne...                           2   \n",
       "NYC-Manhattan Community District 4 & 5--Chelsea...                           2   \n",
       "NYC-Manhattan Community District 1 & 2--Battery...                           2   \n",
       "NYC-Queens Community District 12--Jamaica, New ...                           1   \n",
       "\n",
       "                                                    Households: With Dial-Up Internet Subscription Alone  \\\n",
       "Qualifying Name                                                                                            \n",
       "NYC-Bronx Community District 1 & 2--Hunts Point...                                                  2      \n",
       "NYC-Bronx Community District 3 & 6--Belmont, Ne...                                                  2      \n",
       "NYC-Manhattan Community District 4 & 5--Chelsea...                                                  2      \n",
       "NYC-Manhattan Community District 1 & 2--Battery...                                                  2      \n",
       "NYC-Queens Community District 12--Jamaica, New ...                                                  1      \n",
       "\n",
       "                                                    Households: With A Broadband Internet Subscription  \\\n",
       "Qualifying Name                                                                                          \n",
       "NYC-Bronx Community District 1 & 2--Hunts Point...                                                  2    \n",
       "NYC-Bronx Community District 3 & 6--Belmont, Ne...                                                  2    \n",
       "NYC-Manhattan Community District 4 & 5--Chelsea...                                                  2    \n",
       "NYC-Manhattan Community District 1 & 2--Battery...                                                  2    \n",
       "NYC-Queens Community District 12--Jamaica, New ...                                                  1    \n",
       "\n",
       "                                                    Households: Without An Internet Subscription  \\\n",
       "Qualifying Name                                                                                    \n",
       "NYC-Bronx Community District 1 & 2--Hunts Point...                                             2   \n",
       "NYC-Bronx Community District 3 & 6--Belmont, Ne...                                             2   \n",
       "NYC-Manhattan Community District 4 & 5--Chelsea...                                             2   \n",
       "NYC-Manhattan Community District 1 & 2--Battery...                                             2   \n",
       "NYC-Queens Community District 12--Jamaica, New ...                                             1   \n",
       "\n",
       "                                                    Households: No Computer  \n",
       "Qualifying Name                                                              \n",
       "NYC-Bronx Community District 1 & 2--Hunts Point...                        2  \n",
       "NYC-Bronx Community District 3 & 6--Belmont, Ne...                        2  \n",
       "NYC-Manhattan Community District 4 & 5--Chelsea...                        2  \n",
       "NYC-Manhattan Community District 1 & 2--Battery...                        2  \n",
       "NYC-Queens Community District 12--Jamaica, New ...                        1  \n",
       "\n",
       "[5 rows x 30 columns]"
      ]
     },
     "execution_count": 168,
     "metadata": {},
     "output_type": "execute_result"
    }
   ],
   "source": [
    "# taking a closer look at our data\n",
    "df_infr.groupby(['Qualifying Name']).count().sort(columns=\"FIPS\", ascending=False).head()"
   ]
  },
  {
   "cell_type": "markdown",
   "metadata": {},
   "source": [
    "Eight community districts seem to be bundled into four which would explain the four missing districts from earlier"
   ]
  },
  {
   "cell_type": "code",
   "execution_count": 217,
   "metadata": {
    "collapsed": false
   },
   "outputs": [
    {
     "data": {
      "text/html": [
       "<div>\n",
       "<table border=\"1\" class=\"dataframe\">\n",
       "  <thead>\n",
       "    <tr style=\"text-align: right;\">\n",
       "      <th></th>\n",
       "      <th>Households</th>\n",
       "      <th>Qualifying Name</th>\n",
       "      <th>% Households: With An Internet Subscription</th>\n",
       "    </tr>\n",
       "  </thead>\n",
       "  <tbody>\n",
       "    <tr>\n",
       "      <th>0</th>\n",
       "      <td>42035</td>\n",
       "      <td>NYC-Bronx Community District 8--Riverdale, New...</td>\n",
       "      <td>75.64</td>\n",
       "    </tr>\n",
       "    <tr>\n",
       "      <th>1</th>\n",
       "      <td>44830</td>\n",
       "      <td>NYC-Bronx Community District 12--Wakefield, Ne...</td>\n",
       "      <td>71.92</td>\n",
       "    </tr>\n",
       "    <tr>\n",
       "      <th>2</th>\n",
       "      <td>47050</td>\n",
       "      <td>NYC-Bronx Community District 10--Co-op City, N...</td>\n",
       "      <td>69.56</td>\n",
       "    </tr>\n",
       "  </tbody>\n",
       "</table>\n",
       "</div>"
      ],
      "text/plain": [
       "   Households                                    Qualifying Name  \\\n",
       "0       42035  NYC-Bronx Community District 8--Riverdale, New...   \n",
       "1       44830  NYC-Bronx Community District 12--Wakefield, Ne...   \n",
       "2       47050  NYC-Bronx Community District 10--Co-op City, N...   \n",
       "\n",
       "   % Households: With An Internet Subscription  \n",
       "0                                        75.64  \n",
       "1                                        71.92  \n",
       "2                                        69.56  "
      ]
     },
     "execution_count": 217,
     "metadata": {},
     "output_type": "execute_result"
    }
   ],
   "source": [
    "dataframe3 = df_infr[['Households', 'Qualifying Name', '% Households: With An Internet Subscription']]\n",
    "dataframe3.head(3)"
   ]
  },
  {
   "cell_type": "code",
   "execution_count": 218,
   "metadata": {
    "collapsed": false
   },
   "outputs": [
    {
     "name": "stderr",
     "output_type": "stream",
     "text": [
      "/opt/rh/anaconda/root/envs/PUI2016_Python2/lib/python2.7/site-packages/ipykernel/__main__.py:3: SettingWithCopyWarning: \n",
      "A value is trying to be set on a copy of a slice from a DataFrame.\n",
      "Try using .loc[row_indexer,col_indexer] = value instead\n",
      "\n",
      "See the caveats in the documentation: http://pandas.pydata.org/pandas-docs/stable/indexing.html#indexing-view-versus-copy\n",
      "  app.launch_new_instance()\n",
      "/opt/rh/anaconda/root/envs/PUI2016_Python2/lib/python2.7/site-packages/ipykernel/__main__.py:4: SettingWithCopyWarning: \n",
      "A value is trying to be set on a copy of a slice from a DataFrame.\n",
      "Try using .loc[row_indexer,col_indexer] = value instead\n",
      "\n",
      "See the caveats in the documentation: http://pandas.pydata.org/pandas-docs/stable/indexing.html#indexing-view-versus-copy\n",
      "/opt/rh/anaconda/root/envs/PUI2016_Python2/lib/python2.7/site-packages/ipykernel/__main__.py:6: SettingWithCopyWarning: \n",
      "A value is trying to be set on a copy of a slice from a DataFrame.\n",
      "Try using .loc[row_indexer,col_indexer] = value instead\n",
      "\n",
      "See the caveats in the documentation: http://pandas.pydata.org/pandas-docs/stable/indexing.html#indexing-view-versus-copy\n",
      "/opt/rh/anaconda/root/envs/PUI2016_Python2/lib/python2.7/site-packages/ipykernel/__main__.py:8: SettingWithCopyWarning: \n",
      "A value is trying to be set on a copy of a slice from a DataFrame.\n",
      "Try using .loc[row_indexer,col_indexer] = value instead\n",
      "\n",
      "See the caveats in the documentation: http://pandas.pydata.org/pandas-docs/stable/indexing.html#indexing-view-versus-copy\n",
      "/opt/rh/anaconda/root/envs/PUI2016_Python2/lib/python2.7/site-packages/ipykernel/__main__.py:9: SettingWithCopyWarning: \n",
      "A value is trying to be set on a copy of a slice from a DataFrame.\n",
      "Try using .loc[row_indexer,col_indexer] = value instead\n",
      "\n",
      "See the caveats in the documentation: http://pandas.pydata.org/pandas-docs/stable/indexing.html#indexing-view-versus-copy\n",
      "/opt/rh/anaconda/root/envs/PUI2016_Python2/lib/python2.7/site-packages/ipykernel/__main__.py:11: SettingWithCopyWarning: \n",
      "A value is trying to be set on a copy of a slice from a DataFrame.\n",
      "Try using .loc[row_indexer,col_indexer] = value instead\n",
      "\n",
      "See the caveats in the documentation: http://pandas.pydata.org/pandas-docs/stable/indexing.html#indexing-view-versus-copy\n"
     ]
    }
   ],
   "source": [
    "# Aggregating \n",
    "dataframe3['% Households: With An Internet Subscription'] = (\n",
    "    dataframe2['% Households: With An Internet Subscription']/100) \n",
    "dataframe3['% Households: Dial-Up Alone'] = (df_infr['Households: Dial-Up Alone'] / df_infr['Households'])\n",
    "dataframe3['% Households: With Dial-Up Internet Subscription Alone'] = (\n",
    "    df_infr['Households: With Dial-Up Internet Subscription Alone']/df_infr['Households'])\n",
    "dataframe3['% Households: With A Broadband Internet Subscription'] = (\n",
    "    df_infr['Households: With A Broadband Internet Subscription'] / df_infr['Households'])\n",
    "dataframe3['% Households: Dsl'] = (df_infr['Households: Dsl'] / df_infr['Households'])\n",
    "dataframe3['% Households: Internet Access Without A Subscription'] = (\n",
    "    df_infr['Households: Internet Access Without A Subscription'] / df_infr['Households'])"
   ]
  },
  {
   "cell_type": "code",
   "execution_count": 219,
   "metadata": {
    "collapsed": false,
    "scrolled": false
   },
   "outputs": [
    {
     "data": {
      "text/html": [
       "<div>\n",
       "<table border=\"1\" class=\"dataframe\">\n",
       "  <thead>\n",
       "    <tr style=\"text-align: right;\">\n",
       "      <th></th>\n",
       "      <th>Households</th>\n",
       "      <th>Qualifying Name</th>\n",
       "      <th>% Households: With An Internet Subscription</th>\n",
       "      <th>% Households: Dial-Up Alone</th>\n",
       "      <th>% Households: With Dial-Up Internet Subscription Alone</th>\n",
       "      <th>% Households: With A Broadband Internet Subscription</th>\n",
       "      <th>% Households: Dsl</th>\n",
       "      <th>% Households: Internet Access Without A Subscription</th>\n",
       "    </tr>\n",
       "  </thead>\n",
       "  <tbody>\n",
       "    <tr>\n",
       "      <th>0</th>\n",
       "      <td>42035</td>\n",
       "      <td>NYC-Bronx Community District 8--Riverdale, New...</td>\n",
       "      <td>0.007564</td>\n",
       "      <td>0.010563</td>\n",
       "      <td>0.009611</td>\n",
       "      <td>0.736125</td>\n",
       "      <td>0.066920</td>\n",
       "      <td>0.050410</td>\n",
       "    </tr>\n",
       "    <tr>\n",
       "      <th>1</th>\n",
       "      <td>44830</td>\n",
       "      <td>NYC-Bronx Community District 12--Wakefield, Ne...</td>\n",
       "      <td>0.007192</td>\n",
       "      <td>0.003971</td>\n",
       "      <td>0.003971</td>\n",
       "      <td>0.701205</td>\n",
       "      <td>0.018938</td>\n",
       "      <td>0.042182</td>\n",
       "    </tr>\n",
       "    <tr>\n",
       "      <th>2</th>\n",
       "      <td>47050</td>\n",
       "      <td>NYC-Bronx Community District 10--Co-op City, N...</td>\n",
       "      <td>0.006956</td>\n",
       "      <td>0.003358</td>\n",
       "      <td>0.003358</td>\n",
       "      <td>0.687205</td>\n",
       "      <td>0.039596</td>\n",
       "      <td>0.061254</td>\n",
       "    </tr>\n",
       "  </tbody>\n",
       "</table>\n",
       "</div>"
      ],
      "text/plain": [
       "   Households                                    Qualifying Name  \\\n",
       "0       42035  NYC-Bronx Community District 8--Riverdale, New...   \n",
       "1       44830  NYC-Bronx Community District 12--Wakefield, Ne...   \n",
       "2       47050  NYC-Bronx Community District 10--Co-op City, N...   \n",
       "\n",
       "   % Households: With An Internet Subscription  % Households: Dial-Up Alone  \\\n",
       "0                                     0.007564                     0.010563   \n",
       "1                                     0.007192                     0.003971   \n",
       "2                                     0.006956                     0.003358   \n",
       "\n",
       "   % Households: With Dial-Up Internet Subscription Alone  \\\n",
       "0                                           0.009611        \n",
       "1                                           0.003971        \n",
       "2                                           0.003358        \n",
       "\n",
       "   % Households: With A Broadband Internet Subscription  % Households: Dsl  \\\n",
       "0                                           0.736125              0.066920   \n",
       "1                                           0.701205              0.018938   \n",
       "2                                           0.687205              0.039596   \n",
       "\n",
       "   % Households: Internet Access Without A Subscription  \n",
       "0                                           0.050410     \n",
       "1                                           0.042182     \n",
       "2                                           0.061254     "
      ]
     },
     "execution_count": 219,
     "metadata": {},
     "output_type": "execute_result"
    }
   ],
   "source": [
    "dataframe3.head(3)"
   ]
  },
  {
   "cell_type": "markdown",
   "metadata": {},
   "source": [
    "# 5. Inform your results by linking datasets\n",
    "Now you want to link the three data frames to produce summary statistics for Community Districts which show a high number of complaints vs. Community Districts which show a lower number of complaints. Please keep in mind that the identifiers used for the linkage (Community Dostrict IDs) should be recored the same way. Use regular expressions to harmonize the identifiers if possible. The identifiers should look like BK01, BK02, etc.\n",
    "https://docs.python.org/2/library/re.html"
   ]
  },
  {
   "cell_type": "code",
   "execution_count": 244,
   "metadata": {
    "collapsed": false
   },
   "outputs": [
    {
     "data": {
      "text/html": [
       "<div>\n",
       "<table border=\"1\" class=\"dataframe\">\n",
       "  <thead>\n",
       "    <tr style=\"text-align: right;\">\n",
       "      <th></th>\n",
       "      <th>no_complaints</th>\n",
       "    </tr>\n",
       "    <tr>\n",
       "      <th>Community Board</th>\n",
       "      <th></th>\n",
       "    </tr>\n",
       "  </thead>\n",
       "  <tbody>\n",
       "    <tr>\n",
       "      <th>01 BRONX</th>\n",
       "      <td>25</td>\n",
       "    </tr>\n",
       "    <tr>\n",
       "      <th>01 BROOKLYN</th>\n",
       "      <td>32</td>\n",
       "    </tr>\n",
       "    <tr>\n",
       "      <th>01 MANHATTAN</th>\n",
       "      <td>5</td>\n",
       "    </tr>\n",
       "    <tr>\n",
       "      <th>01 QUEENS</th>\n",
       "      <td>32</td>\n",
       "    </tr>\n",
       "    <tr>\n",
       "      <th>01 STATEN ISLAND</th>\n",
       "      <td>8</td>\n",
       "    </tr>\n",
       "  </tbody>\n",
       "</table>\n",
       "</div>"
      ],
      "text/plain": [
       "                  no_complaints\n",
       "Community Board                \n",
       "01 BRONX                     25\n",
       "01 BROOKLYN                  32\n",
       "01 MANHATTAN                  5\n",
       "01 QUEENS                    32\n",
       "01 STATEN ISLAND              8"
      ]
     },
     "execution_count": 244,
     "metadata": {},
     "output_type": "execute_result"
    }
   ],
   "source": [
    "# Harmonize identifier of dataframe 1\n",
    "dataframe1.head()"
   ]
  },
  {
   "cell_type": "code",
   "execution_count": 245,
   "metadata": {
    "collapsed": false
   },
   "outputs": [
    {
     "data": {
      "text/plain": [
       "Index([u'no_complaints'], dtype='object')"
      ]
     },
     "execution_count": 245,
     "metadata": {},
     "output_type": "execute_result"
    }
   ],
   "source": [
    "dataframe1.columns"
   ]
  },
  {
   "cell_type": "code",
   "execution_count": null,
   "metadata": {
    "collapsed": true
   },
   "outputs": [],
   "source": [
    "# My dataframe is not aligned correctly"
   ]
  },
  {
   "cell_type": "code",
   "execution_count": null,
   "metadata": {
    "collapsed": false
   },
   "outputs": [],
   "source": [
    "# Harmonize identifier of dataframe 2"
   ]
  },
  {
   "cell_type": "code",
   "execution_count": null,
   "metadata": {
    "collapsed": true
   },
   "outputs": [],
   "source": [
    "# Harmonize identifier of dataframe 3"
   ]
  },
  {
   "cell_type": "code",
   "execution_count": null,
   "metadata": {
    "collapsed": false
   },
   "outputs": [],
   "source": [
    "# Link the 3 dataframes"
   ]
  },
  {
   "cell_type": "code",
   "execution_count": null,
   "metadata": {
    "collapsed": true
   },
   "outputs": [],
   "source": [
    "# Are the demographics and infrastructure different in Community Districts that show more complaints than others?"
   ]
  }
 ],
 "metadata": {
  "celltoolbar": "Raw Cell Format",
  "kernelspec": {
   "display_name": "PUI2016_Python2",
   "language": "python",
   "name": "pui2016_python2"
  },
  "language_info": {
   "codemirror_mode": {
    "name": "ipython",
    "version": 2
   },
   "file_extension": ".py",
   "mimetype": "text/x-python",
   "name": "python",
   "nbconvert_exporter": "python",
   "pygments_lexer": "ipython2",
   "version": "2.7.12"
  }
 },
 "nbformat": 4,
 "nbformat_minor": 0
}
