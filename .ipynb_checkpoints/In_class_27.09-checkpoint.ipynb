{
 "cells": [
  {
   "cell_type": "markdown",
   "metadata": {},
   "source": [
    "Based on this: https://github.com/fedhere/PUI2016_fb55/blob/master/HW4_fb55/effectivenes%20of%20NYC%20Post-Prison%20Employment%20Programs.ipynb"
   ]
  },
  {
   "cell_type": "code",
   "execution_count": 6,
   "metadata": {
    "collapsed": false
   },
   "outputs": [],
   "source": [
    "import numpy as np\n",
    "\n",
    "p1 = 70.1/100\n",
    "p0 = 3.5/100\n",
    "\n",
    "a = 0.05\n",
    "\n",
    "# H0: p1 <= p0\n",
    "\n",
    "\n",
    "total_1 = 564\n",
    "total_0 = 409\n",
    "total = total_0 + total_1\n",
    "\n",
    "con_table = np.array([[0, 0], [0,0]])"
   ]
  },
  {
   "cell_type": "code",
   "execution_count": 5,
   "metadata": {
    "collapsed": true
   },
   "outputs": [],
   "source": [
    "con_table[0][0] = p1 * total_1\n",
    "con_table[1][0] = p0 * total_0\n",
    "\n",
    "con_table[0][1] = total_1 * (1-p1)\n",
    "con_table[1][1] = total_0 * (1-p0)"
   ]
  },
  {
   "cell_type": "code",
   "execution_count": 7,
   "metadata": {
    "collapsed": true
   },
   "outputs": [],
   "source": [
    "chisqstat = lambda N, values, expect : N * ((values[0][0] * values[1][1] - values[0][1] * values[1][0])**2) / expect"
   ]
  },
  {
   "cell_type": "code",
   "execution_count": 10,
   "metadata": {
    "collapsed": true
   },
   "outputs": [],
   "source": [
    "expected = 564 * 409 * 409.679 * 562.912\n",
    "sample_values = [[0.701 * 564, 0.299 * 564], [0.0305 * 409, 0.965 * 409]]"
   ]
  },
  {
   "cell_type": "code",
   "execution_count": 12,
   "metadata": {
    "collapsed": false,
    "scrolled": true
   },
   "outputs": [
    {
     "name": "stdout",
     "output_type": "stream",
     "text": [
      "433.44352059\n"
     ]
    }
   ],
   "source": [
    "print (chisqstat(total,  sample_values, expected))"
   ]
  },
  {
   "cell_type": "code",
   "execution_count": null,
   "metadata": {
    "collapsed": true
   },
   "outputs": [],
   "source": []
  }
 ],
 "metadata": {
  "kernelspec": {
   "display_name": "Python 2",
   "language": "python",
   "name": "python2"
  },
  "language_info": {
   "codemirror_mode": {
    "name": "ipython",
    "version": 2
   },
   "file_extension": ".py",
   "mimetype": "text/x-python",
   "name": "python",
   "nbconvert_exporter": "python",
   "pygments_lexer": "ipython2",
   "version": "2.7.11"
  }
 },
 "nbformat": 4,
 "nbformat_minor": 0
}
