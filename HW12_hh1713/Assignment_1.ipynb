{
 "cells": [
  {
   "cell_type": "markdown",
   "metadata": {},
   "source": [
    "# HW12\n",
    "## Making a Semivariogram based on asthma dismissal records"
   ]
  },
  {
   "cell_type": "markdown",
   "metadata": {},
   "source": [
    "#### Importing packages"
   ]
  },
  {
   "cell_type": "code",
   "execution_count": 199,
   "metadata": {
    "collapsed": false
   },
   "outputs": [],
   "source": [
    "import ast\n",
    "# note this is python2 compatible only. the pykriging code is also python2 only\n",
    "import urllib2\n",
    "import urllib\n",
    "from cStringIO import StringIO\n",
    "import json\n",
    "import geopandas as gpd\n",
    "import pandas as pd\n",
    "import numpy as np\n",
    "import pylab as pl\n",
    "import zipfile\n",
    "import os\n",
    "import seaborn\n",
    "import math\n",
    "from scipy.spatial.distance import pdist, squareform\n",
    "%matplotlib inline\n",
    "\n",
    "SQL_SOURCE = 'https://fb55.carto.com/api/v2/sql'\n",
    "\n",
    "def queryCartoDB(query, format='CSV', source=SQL_SOURCE):\n",
    "    \"\"\" queries a url with an sql compatible search\n",
    "    Arguments:\n",
    "    query : the sql query string\n",
    "    format : the expected format\n",
    "    source \" the url of the API\n",
    "    \"\"\"\n",
    "    data = urllib.urlencode({'format': format, 'q': query})\n",
    "    try:\n",
    "        response = urllib2.urlopen(source, data)\n",
    "    except urllib2.HTTPError, e:\n",
    "        raise ValueError('\\n'.join(ast.literal_eval(e.readline())['error']))\n",
    "    except Exception:\n",
    "        raise\n",
    "    return StringIO(response.read())"
   ]
  },
  {
   "cell_type": "markdown",
   "metadata": {},
   "source": [
    "#### Getting data through SQL query"
   ]
  },
  {
   "cell_type": "code",
   "execution_count": 24,
   "metadata": {
    "collapsed": false
   },
   "outputs": [
    {
     "data": {
      "text/html": [
       "<div>\n",
       "<table border=\"1\" class=\"dataframe\">\n",
       "  <thead>\n",
       "    <tr style=\"text-align: right;\">\n",
       "      <th></th>\n",
       "      <th>count</th>\n",
       "      <th>zipcodes</th>\n",
       "    </tr>\n",
       "  </thead>\n",
       "  <tbody>\n",
       "    <tr>\n",
       "      <th>0</th>\n",
       "      <td>1699</td>\n",
       "      <td>10461</td>\n",
       "    </tr>\n",
       "    <tr>\n",
       "      <th>1</th>\n",
       "      <td>405</td>\n",
       "      <td>11373</td>\n",
       "    </tr>\n",
       "    <tr>\n",
       "      <th>2</th>\n",
       "      <td>1698</td>\n",
       "      <td>10451</td>\n",
       "    </tr>\n",
       "    <tr>\n",
       "      <th>3</th>\n",
       "      <td>220</td>\n",
       "      <td>11691</td>\n",
       "    </tr>\n",
       "    <tr>\n",
       "      <th>4</th>\n",
       "      <td>246</td>\n",
       "      <td>11375</td>\n",
       "    </tr>\n",
       "    <tr>\n",
       "      <th>5</th>\n",
       "      <td>494</td>\n",
       "      <td>10466</td>\n",
       "    </tr>\n",
       "    <tr>\n",
       "      <th>6</th>\n",
       "      <td>713</td>\n",
       "      <td>11212</td>\n",
       "    </tr>\n",
       "    <tr>\n",
       "      <th>7</th>\n",
       "      <td>167</td>\n",
       "      <td>11229</td>\n",
       "    </tr>\n",
       "    <tr>\n",
       "      <th>8</th>\n",
       "      <td>521</td>\n",
       "      <td>11215</td>\n",
       "    </tr>\n",
       "    <tr>\n",
       "      <th>9</th>\n",
       "      <td>386</td>\n",
       "      <td>11220</td>\n",
       "    </tr>\n",
       "    <tr>\n",
       "      <th>10</th>\n",
       "      <td>641</td>\n",
       "      <td>11355</td>\n",
       "    </tr>\n",
       "    <tr>\n",
       "      <th>11</th>\n",
       "      <td>376</td>\n",
       "      <td>11213</td>\n",
       "    </tr>\n",
       "    <tr>\n",
       "      <th>12</th>\n",
       "      <td>567</td>\n",
       "      <td>11418</td>\n",
       "    </tr>\n",
       "    <tr>\n",
       "      <th>13</th>\n",
       "      <td>411</td>\n",
       "      <td>10310</td>\n",
       "    </tr>\n",
       "    <tr>\n",
       "      <th>14</th>\n",
       "      <td>1829</td>\n",
       "      <td>11203</td>\n",
       "    </tr>\n",
       "    <tr>\n",
       "      <th>15</th>\n",
       "      <td>281</td>\n",
       "      <td>11102</td>\n",
       "    </tr>\n",
       "    <tr>\n",
       "      <th>16</th>\n",
       "      <td>222</td>\n",
       "      <td>11234</td>\n",
       "    </tr>\n",
       "    <tr>\n",
       "      <th>17</th>\n",
       "      <td>1156</td>\n",
       "      <td>11237</td>\n",
       "    </tr>\n",
       "    <tr>\n",
       "      <th>18</th>\n",
       "      <td>421</td>\n",
       "      <td>11219</td>\n",
       "    </tr>\n",
       "    <tr>\n",
       "      <th>19</th>\n",
       "      <td>822</td>\n",
       "      <td>10457</td>\n",
       "    </tr>\n",
       "    <tr>\n",
       "      <th>20</th>\n",
       "      <td>320</td>\n",
       "      <td>11235</td>\n",
       "    </tr>\n",
       "    <tr>\n",
       "      <th>21</th>\n",
       "      <td>466</td>\n",
       "      <td>11206</td>\n",
       "    </tr>\n",
       "    <tr>\n",
       "      <th>22</th>\n",
       "      <td>1072</td>\n",
       "      <td>10456</td>\n",
       "    </tr>\n",
       "    <tr>\n",
       "      <th>23</th>\n",
       "      <td>926</td>\n",
       "      <td>11040</td>\n",
       "    </tr>\n",
       "    <tr>\n",
       "      <th>24</th>\n",
       "      <td>940</td>\n",
       "      <td>11201</td>\n",
       "    </tr>\n",
       "    <tr>\n",
       "      <th>25</th>\n",
       "      <td>2164</td>\n",
       "      <td>10467</td>\n",
       "    </tr>\n",
       "    <tr>\n",
       "      <th>26</th>\n",
       "      <td>293</td>\n",
       "      <td>11432</td>\n",
       "    </tr>\n",
       "    <tr>\n",
       "      <th>27</th>\n",
       "      <td>447</td>\n",
       "      <td>10305</td>\n",
       "    </tr>\n",
       "    <tr>\n",
       "      <th>28</th>\n",
       "      <td>145</td>\n",
       "      <td>10309</td>\n",
       "    </tr>\n",
       "  </tbody>\n",
       "</table>\n",
       "</div>"
      ],
      "text/plain": [
       "    count  zipcodes\n",
       "0    1699     10461\n",
       "1     405     11373\n",
       "2    1698     10451\n",
       "3     220     11691\n",
       "4     246     11375\n",
       "5     494     10466\n",
       "6     713     11212\n",
       "7     167     11229\n",
       "8     521     11215\n",
       "9     386     11220\n",
       "10    641     11355\n",
       "11    376     11213\n",
       "12    567     11418\n",
       "13    411     10310\n",
       "14   1829     11203\n",
       "15    281     11102\n",
       "16    222     11234\n",
       "17   1156     11237\n",
       "18    421     11219\n",
       "19    822     10457\n",
       "20    320     11235\n",
       "21    466     11206\n",
       "22   1072     10456\n",
       "23    926     11040\n",
       "24    940     11201\n",
       "25   2164     10467\n",
       "26    293     11432\n",
       "27    447     10305\n",
       "28    145     10309"
      ]
     },
     "execution_count": 24,
     "metadata": {},
     "output_type": "execute_result"
    }
   ],
   "source": [
    "# fill in the query details in facilityQuery: \n",
    "# within a single query collect AND GROUP the data by zipcode\n",
    "facilityQuery = '''\n",
    "SELECT \n",
    "COUNT (*) as count,\n",
    "zipcodes\n",
    "FROM NYCAsthmasDismissals\n",
    "GROUP BY zipcodes\n",
    "'''\n",
    "facilityStream = queryCartoDB(facilityQuery, format='JSON')\n",
    "facilityData   = json.loads(facilityStream.read())\n",
    "facilityData\n",
    "facilities     = pd.DataFrame.from_dict(facilityData['rows'])\n",
    "facilities"
   ]
  },
  {
   "cell_type": "markdown",
   "metadata": {},
   "source": [
    "#### Downloading and unzipping shapefiles "
   ]
  },
  {
   "cell_type": "code",
   "execution_count": 25,
   "metadata": {
    "collapsed": false
   },
   "outputs": [
    {
     "name": "stdout",
     "output_type": "stream",
     "text": [
      "  % Total    % Received % Xferd  Average Speed   Time    Time     Time  Current\n",
      "                                 Dload  Upload   Total   Spent    Left  Speed\n",
      "100 1478k  100 1478k    0     0  1001k      0  0:00:01  0:00:01 --:--:-- 1282k\n"
     ]
    }
   ],
   "source": [
    "# Downloading zip shapefile\n",
    "!curl -O 'https://data.cityofnewyork.us/api/file_data/YObIR0MbpUVA0EpQzZSq5x55FzKGM2ejSeahdvjqR20?filename=ZIP_CODE_040114.zip'"
   ]
  },
  {
   "cell_type": "code",
   "execution_count": 27,
   "metadata": {
    "collapsed": false
   },
   "outputs": [],
   "source": [
    "# unzipping to PUIDATA\n",
    "zip_path = 'YObIR0MbpUVA0EpQzZSq5x55FzKGM2ejSeahdvjqR20?filename=ZIP_CODE_040114.zip'\n",
    "zip_ref = zipfile.ZipFile(zip_path, 'r')\n",
    "zip_ref.extractall(os.getenv('PUIDATA'))\n",
    "zip_ref.close()"
   ]
  },
  {
   "cell_type": "markdown",
   "metadata": {},
   "source": [
    "#### Import shapefile and merge with asthma dismissal data "
   ]
  },
  {
   "cell_type": "code",
   "execution_count": 210,
   "metadata": {
    "collapsed": true
   },
   "outputs": [],
   "source": [
    "# importing shapefile\n",
    "shapefile = gpd.read_file(os.getenv('PUIDATA') + '/ZIP_CODE_040114.shp')"
   ]
  },
  {
   "cell_type": "code",
   "execution_count": 211,
   "metadata": {
    "collapsed": true
   },
   "outputs": [],
   "source": [
    "# setting coordinate system\n",
    "shapefile = shapefile.to_crs(epsg=32118)"
   ]
  },
  {
   "cell_type": "code",
   "execution_count": 212,
   "metadata": {
    "collapsed": false
   },
   "outputs": [
    {
     "data": {
      "text/html": [
       "<div>\n",
       "<table border=\"1\" class=\"dataframe\">\n",
       "  <thead>\n",
       "    <tr style=\"text-align: right;\">\n",
       "      <th></th>\n",
       "      <th>AREA</th>\n",
       "      <th>BLDGZIP</th>\n",
       "      <th>COUNTY</th>\n",
       "      <th>CTY_FIPS</th>\n",
       "      <th>POPULATION</th>\n",
       "      <th>PO_NAME</th>\n",
       "      <th>SHAPE_AREA</th>\n",
       "      <th>SHAPE_LEN</th>\n",
       "      <th>STATE</th>\n",
       "      <th>ST_FIPS</th>\n",
       "      <th>URL</th>\n",
       "      <th>ZIPCODE</th>\n",
       "      <th>geometry</th>\n",
       "    </tr>\n",
       "  </thead>\n",
       "  <tbody>\n",
       "    <tr>\n",
       "      <th>0</th>\n",
       "      <td>2.269930e+07</td>\n",
       "      <td>0</td>\n",
       "      <td>Queens</td>\n",
       "      <td>081</td>\n",
       "      <td>18681.0</td>\n",
       "      <td>Jamaica</td>\n",
       "      <td>0.0</td>\n",
       "      <td>0.0</td>\n",
       "      <td>NY</td>\n",
       "      <td>36</td>\n",
       "      <td>http://www.usps.com/</td>\n",
       "      <td>11436</td>\n",
       "      <td>POLYGON ((316412.979996387 57344.69291911653, ...</td>\n",
       "    </tr>\n",
       "    <tr>\n",
       "      <th>1</th>\n",
       "      <td>2.963100e+07</td>\n",
       "      <td>0</td>\n",
       "      <td>Kings</td>\n",
       "      <td>047</td>\n",
       "      <td>62426.0</td>\n",
       "      <td>Brooklyn</td>\n",
       "      <td>0.0</td>\n",
       "      <td>0.0</td>\n",
       "      <td>NY</td>\n",
       "      <td>36</td>\n",
       "      <td>http://www.usps.com/</td>\n",
       "      <td>11213</td>\n",
       "      <td>POLYGON ((305292.4702963857 56975.29271911704,...</td>\n",
       "    </tr>\n",
       "    <tr>\n",
       "      <th>2</th>\n",
       "      <td>4.197210e+07</td>\n",
       "      <td>0</td>\n",
       "      <td>Kings</td>\n",
       "      <td>047</td>\n",
       "      <td>83866.0</td>\n",
       "      <td>Brooklyn</td>\n",
       "      <td>0.0</td>\n",
       "      <td>0.0</td>\n",
       "      <td>NY</td>\n",
       "      <td>36</td>\n",
       "      <td>http://www.usps.com/</td>\n",
       "      <td>11212</td>\n",
       "      <td>POLYGON ((308206.535596385 55990.75571911522, ...</td>\n",
       "    </tr>\n",
       "  </tbody>\n",
       "</table>\n",
       "</div>"
      ],
      "text/plain": [
       "           AREA BLDGZIP  COUNTY CTY_FIPS  POPULATION   PO_NAME  SHAPE_AREA  \\\n",
       "0  2.269930e+07       0  Queens      081     18681.0   Jamaica         0.0   \n",
       "1  2.963100e+07       0   Kings      047     62426.0  Brooklyn         0.0   \n",
       "2  4.197210e+07       0   Kings      047     83866.0  Brooklyn         0.0   \n",
       "\n",
       "   SHAPE_LEN STATE ST_FIPS                   URL ZIPCODE  \\\n",
       "0        0.0    NY      36  http://www.usps.com/   11436   \n",
       "1        0.0    NY      36  http://www.usps.com/   11213   \n",
       "2        0.0    NY      36  http://www.usps.com/   11212   \n",
       "\n",
       "                                            geometry  \n",
       "0  POLYGON ((316412.979996387 57344.69291911653, ...  \n",
       "1  POLYGON ((305292.4702963857 56975.29271911704,...  \n",
       "2  POLYGON ((308206.535596385 55990.75571911522, ...  "
      ]
     },
     "execution_count": 212,
     "metadata": {},
     "output_type": "execute_result"
    }
   ],
   "source": [
    "shapefile.head(3)"
   ]
  },
  {
   "cell_type": "code",
   "execution_count": 213,
   "metadata": {
    "collapsed": false
   },
   "outputs": [
    {
     "name": "stdout",
     "output_type": "stream",
     "text": [
      "<type 'numpy.int64'>\n",
      "<type 'unicode'>\n"
     ]
    }
   ],
   "source": [
    "# checking merge columns\n",
    "print type(facilities.zipcodes[0])\n",
    "print type (shapefile.ZIPCODE[0])"
   ]
  },
  {
   "cell_type": "code",
   "execution_count": 214,
   "metadata": {
    "collapsed": false
   },
   "outputs": [],
   "source": [
    "shapefile['ZIPCODE'] = shapefile['ZIPCODE'].astype(int)"
   ]
  },
  {
   "cell_type": "code",
   "execution_count": 215,
   "metadata": {
    "collapsed": true
   },
   "outputs": [],
   "source": [
    "#dropping uneeded columns\n",
    "shapefile.drop(['AREA', 'BLDGZIP', 'COUNTY', 'CTY_FIPS', 'POPULATION', 'PO_NAME', 'SHAPE_AREA', \n",
    "               'SHAPE_LEN', 'STATE', 'ST_FIPS', 'URL'], axis=1, inplace=True)"
   ]
  },
  {
   "cell_type": "code",
   "execution_count": 216,
   "metadata": {
    "collapsed": true
   },
   "outputs": [],
   "source": [
    "# renaming merge columns\n",
    "shapefile.rename(columns={'ZIPCODE' : 'zipcodes'}, inplace=True)"
   ]
  },
  {
   "cell_type": "code",
   "execution_count": 217,
   "metadata": {
    "collapsed": true
   },
   "outputs": [],
   "source": [
    "# merging\n",
    "merged = pd.merge(left=facilities, right=shapefile, on='zipcodes', how='left')"
   ]
  },
  {
   "cell_type": "markdown",
   "metadata": {},
   "source": [
    "#### Setting up geodataframe and retrieving information of importance "
   ]
  },
  {
   "cell_type": "code",
   "execution_count": 218,
   "metadata": {
    "collapsed": true
   },
   "outputs": [],
   "source": [
    "# changing from dataframe to geodataframe\n",
    "merged = gpd.GeoDataFrame(merged)"
   ]
  },
  {
   "cell_type": "code",
   "execution_count": 219,
   "metadata": {
    "collapsed": false
   },
   "outputs": [],
   "source": [
    "# changing geometry to point\n",
    "merged['geometry']=merged.geometry.centroid"
   ]
  },
  {
   "cell_type": "code",
   "execution_count": 220,
   "metadata": {
    "collapsed": false
   },
   "outputs": [
    {
     "data": {
      "text/plain": [
       "geopandas.geodataframe.GeoDataFrame"
      ]
     },
     "execution_count": 220,
     "metadata": {},
     "output_type": "execute_result"
    }
   ],
   "source": [
    "type(merged)"
   ]
  },
  {
   "cell_type": "code",
   "execution_count": 222,
   "metadata": {
    "collapsed": false
   },
   "outputs": [
    {
     "data": {
      "text/html": [
       "<div>\n",
       "<table border=\"1\" class=\"dataframe\">\n",
       "  <thead>\n",
       "    <tr style=\"text-align: right;\">\n",
       "      <th></th>\n",
       "      <th>count</th>\n",
       "      <th>zipcodes</th>\n",
       "      <th>geometry</th>\n",
       "    </tr>\n",
       "  </thead>\n",
       "  <tbody>\n",
       "    <tr>\n",
       "      <th>0</th>\n",
       "      <td>1699</td>\n",
       "      <td>10461</td>\n",
       "      <td>POINT (313424.2492385742 75560.81126467389)</td>\n",
       "    </tr>\n",
       "    <tr>\n",
       "      <th>1</th>\n",
       "      <td>405</td>\n",
       "      <td>11373</td>\n",
       "      <td>POINT (310269.1030166568 63546.38699870969)</td>\n",
       "    </tr>\n",
       "    <tr>\n",
       "      <th>2</th>\n",
       "      <td>1698</td>\n",
       "      <td>10451</td>\n",
       "      <td>POINT (306434.0242675035 72638.88266038348)</td>\n",
       "    </tr>\n",
       "    <tr>\n",
       "      <th>3</th>\n",
       "      <td>220</td>\n",
       "      <td>11691</td>\n",
       "      <td>POINT (320150.6037198587 48230.2654135345)</td>\n",
       "    </tr>\n",
       "    <tr>\n",
       "      <th>4</th>\n",
       "      <td>246</td>\n",
       "      <td>11375</td>\n",
       "      <td>POINT (312987.0073014591 61533.21518736489)</td>\n",
       "    </tr>\n",
       "  </tbody>\n",
       "</table>\n",
       "</div>"
      ],
      "text/plain": [
       "   count  zipcodes                                     geometry\n",
       "0   1699     10461  POINT (313424.2492385742 75560.81126467389)\n",
       "1    405     11373  POINT (310269.1030166568 63546.38699870969)\n",
       "2   1698     10451  POINT (306434.0242675035 72638.88266038348)\n",
       "3    220     11691   POINT (320150.6037198587 48230.2654135345)\n",
       "4    246     11375  POINT (312987.0073014591 61533.21518736489)"
      ]
     },
     "execution_count": 222,
     "metadata": {},
     "output_type": "execute_result"
    }
   ],
   "source": [
    "merged.head()"
   ]
  },
  {
   "cell_type": "code",
   "execution_count": 223,
   "metadata": {
    "collapsed": true
   },
   "outputs": [],
   "source": [
    "# fuctions to retrieve the x- and y coordinates respectively\n",
    "def getX(pt):\n",
    "    return pt.x\n",
    "def getY(pt):\n",
    "    return pt.y"
   ]
  },
  {
   "cell_type": "code",
   "execution_count": 224,
   "metadata": {
    "collapsed": false
   },
   "outputs": [],
   "source": [
    "centroidlist_x=map(getX,merged['geometry'].centroid)\n",
    "centroidlist_y=map(getY,merged['geometry'].centroid)"
   ]
  },
  {
   "cell_type": "markdown",
   "metadata": {},
   "source": [
    "#### Creating a 3xN numpy array with x-location, y-location, number of dismissals to map and create semi-variogram"
   ]
  },
  {
   "cell_type": "code",
   "execution_count": 225,
   "metadata": {
    "collapsed": true
   },
   "outputs": [],
   "source": [
    "krigdata = np.zeros((len(merged),3))"
   ]
  },
  {
   "cell_type": "code",
   "execution_count": 226,
   "metadata": {
    "collapsed": false
   },
   "outputs": [],
   "source": [
    "# filling in the krigdata array\n",
    "krigdata[:,2] = merged['count']\n",
    "for i in range(len(krigdata)):\n",
    "    krigdata[:,0][i] = centroidlist_x[i]\n",
    "    krigdata[:,1][i] = centroidlist_y[i]"
   ]
  },
  {
   "cell_type": "code",
   "execution_count": 227,
   "metadata": {
    "collapsed": false
   },
   "outputs": [
    {
     "data": {
      "text/plain": [
       "array([[  3.13424249e+05,   7.55608113e+04,   1.69900000e+03],\n",
       "       [  3.10269103e+05,   6.35463870e+04,   4.05000000e+02],\n",
       "       [  3.06434024e+05,   7.26388827e+04,   1.69800000e+03],\n",
       "       [  3.20150604e+05,   4.82302654e+04,   2.20000000e+02],\n",
       "       [  3.12987007e+05,   6.15332152e+04,   2.46000000e+02],\n",
       "       [  3.12922666e+05,   8.04397124e+04,   4.94000000e+02],\n",
       "       [  3.07350381e+05,   5.50984846e+04,   7.13000000e+02],\n",
       "       [  3.04713523e+05,   4.82466810e+04,   1.67000000e+02],\n",
       "       [  3.01709066e+05,   5.54035954e+04,   5.21000000e+02],\n",
       "       [  2.98583801e+05,   5.26929596e+04,   3.86000000e+02],\n",
       "       [  3.15088229e+05,   6.49302856e+04,   6.41000000e+02],\n",
       "       [  3.05383654e+05,   5.60233009e+04,   3.76000000e+02],\n",
       "       [  3.14177231e+05,   5.90455709e+04,   5.67000000e+02],\n",
       "       [  2.90217216e+05,   5.18302910e+04,   4.11000000e+02],\n",
       "       [  3.05558464e+05,   5.36351308e+04,   1.82900000e+03],\n",
       "       [  3.06206507e+05,   6.71761404e+04,   2.81000000e+02],\n",
       "       [  3.07553140e+05,   4.88808405e+04,   2.22000000e+02],\n",
       "       [  3.06691742e+05,   5.96688445e+04,   1.15600000e+03],\n",
       "       [  3.00281264e+05,   5.17592538e+04,   4.21000000e+02],\n",
       "       [  3.08572211e+05,   7.54159738e+04,   8.22000000e+02],\n",
       "       [  3.04581682e+05,   4.63560572e+04,   3.20000000e+02],\n",
       "       [  3.04866066e+05,   5.94452756e+04,   4.66000000e+02],\n",
       "       [  3.07776787e+05,   7.36845359e+04,   1.07200000e+03],\n",
       "       [  3.25045562e+05,   6.46745354e+04,   9.26000000e+02],\n",
       "       [  3.00897489e+05,   5.86533690e+04,   9.40000000e+02],\n",
       "       [  3.10914641e+05,   7.90309935e+04,   2.16400000e+03],\n",
       "       [  3.17485017e+05,   6.09945892e+04,   2.93000000e+02],\n",
       "       [  2.93612707e+05,   4.75764978e+04,   4.47000000e+02],\n",
       "       [  2.81508422e+05,   4.05251266e+04,   1.45000000e+02]])"
      ]
     },
     "execution_count": 227,
     "metadata": {},
     "output_type": "execute_result"
    }
   ],
   "source": [
    "krigdata"
   ]
  },
  {
   "cell_type": "code",
   "execution_count": 229,
   "metadata": {
    "collapsed": false
   },
   "outputs": [
    {
     "data": {
      "text/plain": [
       "<matplotlib.text.Text at 0x7fa3991b5850>"
      ]
     },
     "execution_count": 229,
     "metadata": {},
     "output_type": "execute_result"
    },
    {
     "data": {
      "image/png": "[encoded data removed]",
      "text/plain": [
       "<matplotlib.figure.Figure at 0x7fa3992c6c10>"
      ]
     },
     "metadata": {},
     "output_type": "display_data"
    }
   ],
   "source": [
    "pl.figure(figsize=(10,10))\n",
    "pl.scatter(krigdata[:,0], krigdata[:,1], c=krigdata[:,2], s=100, cmap='bone')\n",
    "pl.xlabel(\"Easting (m)\", fontsize=20)\n",
    "pl.ylabel(\"Northing (m)\", fontsize=20)\n",
    "pl.title('Asthma dismissals by location', fontsize=30)"
   ]
  },
  {
   "cell_type": "markdown",
   "metadata": {},
   "source": [
    "Above we have graphed numbers of Asthma dismissals by location. The darker the color the higher the count. Each point is graphed based on the centroid of the zipcode it stems from."
   ]
  },
  {
   "cell_type": "markdown",
   "metadata": {},
   "source": [
    "## Semi-variogram "
   ]
  },
  {
   "cell_type": "markdown",
   "metadata": {},
   "source": [
    "#### Defining semi-variogram functions\n",
    "Code from: https://github.com/fedhere/UInotebooks/blob/master/kriging/kriging_porosity.ipynb"
   ]
  },
  {
   "cell_type": "code",
   "execution_count": 230,
   "metadata": {
    "collapsed": true
   },
   "outputs": [],
   "source": [
    "def SVh_vctzd( P, h, bw ):\n",
    "    '''\n",
    "    Experimental semivariogram for a single lag\n",
    "    bw max distance\n",
    "    h lag\n",
    "    P data\n",
    "    '''\n",
    "    pdsv = squareform( pdist( P[:,:2] ) )\n",
    "    #print pdsv\n",
    "    N = pdsv.shape[0]\n",
    "    #print N\n",
    "    #print np.triu_indices(N)\n",
    "    Z = np.zeros((N,N))\n",
    "    Z = Z - P[:,2]\n",
    "    #print Z\n",
    "    Z = Z.T + P[:,2]\n",
    "    #print Z\n",
    "    Z = Z**2\n",
    "    #print Z\n",
    "    Zcd =  Z[(pdsv >= h - bw) * (pdsv <= h + bw) * \\\n",
    "            (~np.identity(N, dtype=bool))]\n",
    "\n",
    "    #print Zcd\n",
    "    return np.sum( Zcd ) / ( 2.0 * len( Zcd ) )\n",
    "\n",
    "def SVh( P, h, bw ):\n",
    "    '''\n",
    "    Experimental semivariogram for a single lag\n",
    "    bw max distance\n",
    "    h lag\n",
    "    P data\n",
    "    '''\n",
    "    #distance matrix (eucledian)\n",
    "    pdsv = squareform( pdist( P[:,:2] ) )\n",
    "    #print pdsv\n",
    "    N = pdsv.shape[0]\n",
    "    #print N\n",
    "\n",
    "    Z = list()\n",
    "    for i in range(N):\n",
    "        for j in range(i+1, N):\n",
    "            #select only pair of points at the appropriate lag\n",
    "            if( pdsv[i,j] >= h - bw )and( pdsv[i,j] <= h + bw ):\n",
    "                Z.append( ( P[i,2] - P[j,2] )**2.0 )\n",
    "    #print Z\n",
    "    return np.sum( Z ) / ( 2.0 * len( Z ) )\n",
    "\n",
    "\n",
    "def SV( P, hs, bw ):\n",
    "    '''\n",
    "    Experimental variogram for a collection of lags\n",
    "    '''\n",
    "    sv = list()\n",
    "    for h in hs:\n",
    "        #print h\n",
    "        sv.append( SVh( P, h, bw ) )\n",
    "        #sv.append( SVh_vctzd ( P, h, bw ) )\n",
    "    sv = [ [ hs[i], sv[i] ] for i in range( len( hs ) ) if sv[i] > 0 ]\n",
    "    return np.array( sv ).T"
   ]
  },
  {
   "cell_type": "markdown",
   "metadata": {},
   "source": [
    "#### Calculating numbers to use in the Semivariogram"
   ]
  },
  {
   "cell_type": "code",
   "execution_count": 232,
   "metadata": {
    "collapsed": false
   },
   "outputs": [
    {
     "name": "stdout",
     "output_type": "stream",
     "text": [
      "The maximum distance between points: 56568.54\n"
     ]
    }
   ],
   "source": [
    "# Calculating the maximum distance between two points\n",
    "# Numbers visually gathered from data\n",
    "y_dist=(80000-40000)\n",
    "x_dist=(320000-280000)\n",
    "maxd=math.sqrt(x_dist**2+y_dist**2)\n",
    "print 'The maximum distance between points: %.2f' %maxd"
   ]
  },
  {
   "cell_type": "markdown",
   "metadata": {},
   "source": [
    "#### Plotting the semivariogram"
   ]
  },
  {
   "cell_type": "code",
   "execution_count": 237,
   "metadata": {
    "collapsed": false
   },
   "outputs": [
    {
     "data": {
      "text/plain": [
       "<matplotlib.text.Text at 0x7fa398f39290>"
      ]
     },
     "execution_count": 237,
     "metadata": {},
     "output_type": "execute_result"
    },
    {
     "data": {
      "image/png": "[encoded data removed]",
      "text/plain": [
       "<matplotlib.figure.Figure at 0x7fa3991fd410>"
      ]
     },
     "metadata": {},
     "output_type": "display_data"
    }
   ],
   "source": [
    "lag = 1000\n",
    "mysv = SV(krigdata, np.arange(1, maxd, lag), 500)\n",
    "pl.figure(figsize=(10,10))\n",
    "pl.plot(mysv[0], mysv[1], '.-')\n",
    "pl.xlabel('Lag [m]', fontsize=20)\n",
    "pl.ylabel('Semivariogram', fontsize=20)\n",
    "pl.title('Semivariogram\\nAsthma data, lag %dm'%lag, fontsize=20) "
   ]
  },
  {
   "cell_type": "markdown",
   "metadata": {
    "collapsed": true
   },
   "source": [
    "The topsy turvy nature of the semi-variogram indicates that there is no spatial correlation to be found."
   ]
  },
  {
   "cell_type": "code",
   "execution_count": null,
   "metadata": {
    "collapsed": true
   },
   "outputs": [],
   "source": [
    "#@Review:\n",
    "#comment on what's happening, what you infer? See solution."
   ]
  }
 ],
 "metadata": {
  "kernelspec": {
   "display_name": "Python 2",
   "language": "python",
   "name": "python2"
  },
  "language_info": {
   "codemirror_mode": {
    "name": "ipython",
    "version": 2
   },
   "file_extension": ".py",
   "mimetype": "text/x-python",
   "name": "python",
   "nbconvert_exporter": "python",
   "pygments_lexer": "ipython2",
   "version": "2.7.12"
  }
 },
 "nbformat": 4,
 "nbformat_minor": 0
}
